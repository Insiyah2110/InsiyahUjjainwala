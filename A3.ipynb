{
 "cells": [
  {
   "cell_type": "markdown",
   "metadata": {
    "deletable": false,
    "editable": false,
    "nbgrader": {
     "cell_type": "markdown",
     "checksum": "7e818f43646883f12994a7f990455d2d",
     "grade": false,
     "grade_id": "cell-352f761a03c9b272",
     "locked": true,
     "schema_version": 3,
     "solution": false,
     "task": false
    }
   },
   "source": [
    "### Maximum grade: 34 / 28\n",
    "\n",
    "The purpose of this lab is to:\n",
    "* Become familiar with for loops\n",
    "* Understand functions that can be applied to lists\n",
    "* Practice working with dictionaries\n",
    "\n",
    "\n",
    "You are supposed to download this notebook, embed your answers to the questions in the cells below, and submit it through JupyterHub.  "
   ]
  },
  {
   "cell_type": "markdown",
   "metadata": {
    "deletable": false,
    "editable": false,
    "nbgrader": {
     "cell_type": "markdown",
     "checksum": "7eb0e23686c68daed083516e9b2f05b8",
     "grade": false,
     "grade_id": "cell-f7f8b20a2026d1ac",
     "locked": true,
     "schema_version": 3,
     "solution": false,
     "task": false
    }
   },
   "source": [
    "### Practice Question: Word Frequency\n",
    "\n",
    "Given a sentence, s, produce a dictionary that tells you the number of times each word occurs in a string. You may assume each word is lowercase, there are no contractions, and each word is separated by a space.  Please note, your function must return the created dictionary."
   ]
  },
  {
   "cell_type": "code",
   "execution_count": 22,
   "metadata": {
    "deletable": false,
    "nbgrader": {
     "cell_type": "code",
     "checksum": "ca110741e27b458976c1100f2d4aebca",
     "grade": false,
     "grade_id": "cell-44f40dd969c40ddf",
     "locked": false,
     "schema_version": 3,
     "solution": true,
     "task": false
    }
   },
   "outputs": [
    {
     "data": {
      "text/plain": [
       "{'this': 1,\n",
       " 'sentence': 1,\n",
       " 'has': 1,\n",
       " 'too': 2,\n",
       " 'many': 1,\n",
       " 'repeated': 2,\n",
       " 'words': 1}"
      ]
     },
     "execution_count": 22,
     "metadata": {},
     "output_type": "execute_result"
    }
   ],
   "source": [
    "def wordFrequency(s):\n",
    "    l=s.split()\n",
    "    dictionary = {}\n",
    "    for word in l:\n",
    "        dictionary[word] = l.count(word)\n",
    "    return dictionary\n",
    "\n",
    "wordFrequency(\"this sentence has too too many repeated repeated words\")\n"
   ]
  },
  {
   "cell_type": "code",
   "execution_count": 23,
   "metadata": {
    "deletable": false,
    "editable": false,
    "nbgrader": {
     "cell_type": "code",
     "checksum": "317c1e3a0176353f6a3f962e6f162d0b",
     "grade": true,
     "grade_id": "cell-f1da65aa15c4dee8",
     "locked": true,
     "points": 0,
     "schema_version": 3,
     "solution": false,
     "task": false
    }
   },
   "outputs": [
    {
     "data": {
      "text/plain": [
       "True"
      ]
     },
     "execution_count": 23,
     "metadata": {},
     "output_type": "execute_result"
    }
   ],
   "source": [
    "wordFrequency(\"was it a car or cat i saw or was it a kangaroo\") == {'a': 2,\n",
    " 'car': 1,\n",
    " 'cat': 1,\n",
    " 'i': 1,\n",
    " 'it': 2,\n",
    " 'kangaroo': 1,\n",
    " 'or': 2,\n",
    " 'saw': 1,\n",
    " 'was': 2}"
   ]
  },
  {
   "cell_type": "code",
   "execution_count": 27,
   "metadata": {
    "deletable": false,
    "editable": false,
    "nbgrader": {
     "cell_type": "code",
     "checksum": "455a067c3078f28d400ddc33281530a0",
     "grade": true,
     "grade_id": "cell-c145933fcd4ec260",
     "locked": true,
     "points": 0,
     "schema_version": 3,
     "solution": false,
     "task": false
    }
   },
   "outputs": [
    {
     "data": {
      "text/plain": [
       "True"
      ]
     },
     "execution_count": 27,
     "metadata": {},
     "output_type": "execute_result"
    }
   ],
   "source": [
    "wordFrequency(\"this sentence has too too many repeated repeated words\") == {'has': 1,\n",
    " 'many': 1,\n",
    " 'repeated': 2,\n",
    " 'sentence': 1,\n",
    " 'this': 1,\n",
    " 'too': 2,\n",
    " 'words': 1}"
   ]
  },
  {
   "cell_type": "markdown",
   "metadata": {
    "deletable": false,
    "editable": false,
    "nbgrader": {
     "cell_type": "markdown",
     "checksum": "654c8fc5787c09fd2232dc46d0909d95",
     "grade": false,
     "grade_id": "cell-58841698bf94d6ac",
     "locked": true,
     "schema_version": 3,
     "solution": false,
     "task": false
    }
   },
   "source": [
    "### Question 1a: Span of a List (2 points)\n",
    "\n",
    "The span, or range of a list of numbers is the difference between the largest and smallest elements of the list. Write a Python function **span(l)** that takes a non-empty list **l** of numbers and returns the span:"
   ]
  },
  {
   "cell_type": "code",
   "execution_count": 25,
   "metadata": {
    "deletable": false,
    "nbgrader": {
     "cell_type": "code",
     "checksum": "47740b995f48b59ef02f3a936a417e5a",
     "grade": false,
     "grade_id": "cell-7705867d2bca8d4f",
     "locked": false,
     "schema_version": 3,
     "solution": true
    }
   },
   "outputs": [
    {
     "data": {
      "text/plain": [
       "4"
      ]
     },
     "execution_count": 25,
     "metadata": {},
     "output_type": "execute_result"
    }
   ],
   "source": [
    "def span(l):\n",
    "    a=max(l)\n",
    "    b=min(l)\n",
    "    x=a-b\n",
    "    return x\n",
    "span([3,2,1,2,3,4,5,4,3,2,1])\n",
    "\n"
   ]
  },
  {
   "cell_type": "code",
   "execution_count": 26,
   "metadata": {
    "deletable": false,
    "editable": false,
    "nbgrader": {
     "cell_type": "code",
     "checksum": "1de6f6b9038200e41ef56d3044640004",
     "grade": false,
     "grade_id": "cell-5e0461a5bd5fb5df",
     "locked": true,
     "schema_version": 3,
     "solution": false,
     "task": false
    }
   },
   "outputs": [
    {
     "name": "stdout",
     "output_type": "stream",
     "text": [
      "Are my sample test cases correct?\n",
      "Question #1a - Test #1 You passed!\n",
      "Question #1a - Test #2 You passed!\n",
      "Question #1a - Test #3 You passed!\n"
     ]
    }
   ],
   "source": [
    "print(\"Are my sample test cases correct?\")\n",
    "print(\"Question #1a - Test #1\", \"You passed!\" if span([5,4,3,2,1]) == 4 else \"You failed this test!\")\n",
    "print(\"Question #1a - Test #2\", \"You passed!\" if span([1,2,3,4,5]) == 4 else \"You failed this test!\")\n",
    "print(\"Question #1a - Test #3\", \"You passed!\" if span([3,2,1,2,3,4,5,4,3,2,1]) == 4 else \"You failed this test!\")"
   ]
  },
  {
   "cell_type": "code",
   "execution_count": null,
   "metadata": {
    "deletable": false,
    "editable": false,
    "nbgrader": {
     "cell_type": "code",
     "checksum": "03dda14f641dd6569ecde826998ded8f",
     "grade": true,
     "grade_id": "cell-7cf9369f9c83d433",
     "locked": true,
     "points": 0.5,
     "schema_version": 3,
     "solution": false
    }
   },
   "outputs": [],
   "source": [
    "# This is the kind of all private tests."
   ]
  },
  {
   "cell_type": "code",
   "execution_count": null,
   "metadata": {
    "deletable": false,
    "editable": false,
    "nbgrader": {
     "cell_type": "code",
     "checksum": "9b7fcafe8342861e04e607d798174e0a",
     "grade": true,
     "grade_id": "cell-f01921fe4a4cd058",
     "locked": true,
     "points": 1,
     "schema_version": 3,
     "solution": false
    }
   },
   "outputs": [],
   "source": [
    "# This is a private test case. No touchy."
   ]
  },
  {
   "cell_type": "code",
   "execution_count": null,
   "metadata": {
    "deletable": false,
    "editable": false,
    "nbgrader": {
     "cell_type": "code",
     "checksum": "acfcc462347c0ae10c43ac985e7968eb",
     "grade": true,
     "grade_id": "cell-486f7cdc6b7072c5",
     "locked": true,
     "points": 0.5,
     "schema_version": 3,
     "solution": false
    }
   },
   "outputs": [],
   "source": [
    "# This is another private test case. Mark would appreciate if you would leave this alone too."
   ]
  },
  {
   "cell_type": "markdown",
   "metadata": {
    "deletable": false,
    "editable": false,
    "nbgrader": {
     "cell_type": "markdown",
     "checksum": "d4c3e6e60951dae780f76ec5d57addca",
     "grade": false,
     "grade_id": "cell-094f2b12f9952a3e",
     "locked": true,
     "schema_version": 3,
     "solution": false,
     "task": false
    }
   },
   "source": [
    "### Question 1b: Bound of a List (2 points)\n",
    "\n",
    "The bound of a list of numbers is a pair with the smallest and largest number. Write a Python function **bound(l)** that takes non-empty list **l** and returns its bound as a tuple with signature order (min,max)."
   ]
  },
  {
   "cell_type": "code",
   "execution_count": 27,
   "metadata": {
    "deletable": false,
    "nbgrader": {
     "cell_type": "code",
     "checksum": "242e4c781717673de4a93d6ac662909c",
     "grade": false,
     "grade_id": "cell-ba4ea05b0acec81a",
     "locked": false,
     "schema_version": 3,
     "solution": true
    }
   },
   "outputs": [
    {
     "data": {
      "text/plain": [
       "(1, 5)"
      ]
     },
     "execution_count": 27,
     "metadata": {},
     "output_type": "execute_result"
    }
   ],
   "source": [
    "def bound(l):\n",
    "    b = ( min(l) , max(l) )\n",
    "    return b\n",
    "\n",
    "bound ([1,2,3,4,5])\n"
   ]
  },
  {
   "cell_type": "code",
   "execution_count": 28,
   "metadata": {
    "deletable": false,
    "editable": false,
    "nbgrader": {
     "cell_type": "code",
     "checksum": "f71cc0d1530e35d2e9539afdd97f9823",
     "grade": false,
     "grade_id": "cell-823856f7f0c3dac2",
     "locked": true,
     "schema_version": 3,
     "solution": false,
     "task": false
    }
   },
   "outputs": [
    {
     "name": "stdout",
     "output_type": "stream",
     "text": [
      "Are my sample test cases correct?\n",
      "Questtion #1b Test #1 You passed!\n",
      "Questtion #1b Test #2 You passed!\n",
      "Questtion #1b Test #3 You passed!\n"
     ]
    }
   ],
   "source": [
    "print(\"Are my sample test cases correct?\")\n",
    "print(\"Questtion #1b Test #1\", \"You passed!\" if bound([1,6,3,7,9,1]) == (1,9) else \"You Failed this Test Case!\")\n",
    "print(\"Questtion #1b Test #2\", \"You passed!\" if bound([1,2,3,4,5]) == (1,5) else \"You Failed this Test Case!\")\n",
    "print(\"Questtion #1b Test #3\", \"You passed!\" if bound([3,2,1,2,3,4,5,4,3,2,1]) == (1,5) else \"You Failed this Test Case!\")"
   ]
  },
  {
   "cell_type": "code",
   "execution_count": null,
   "metadata": {
    "deletable": false,
    "editable": false,
    "nbgrader": {
     "cell_type": "code",
     "checksum": "c003f7d3b83f7842fc2294d10de066b9",
     "grade": true,
     "grade_id": "cell-f9cc63f5a1def021",
     "locked": true,
     "points": 0.5,
     "schema_version": 3,
     "solution": false
    }
   },
   "outputs": [],
   "source": [
    "# I am not playing here. Don't touch the hidden test cases."
   ]
  },
  {
   "cell_type": "code",
   "execution_count": null,
   "metadata": {
    "deletable": false,
    "editable": false,
    "nbgrader": {
     "cell_type": "code",
     "checksum": "a82eb8227edf2ba1f5ba32aa1feb2404",
     "grade": true,
     "grade_id": "cell-4507dc84c7076897",
     "locked": true,
     "points": 1,
     "schema_version": 3,
     "solution": false
    }
   },
   "outputs": [],
   "source": [
    "# They are innocent of the crimes you accuse them of!"
   ]
  },
  {
   "cell_type": "code",
   "execution_count": null,
   "metadata": {
    "deletable": false,
    "editable": false,
    "nbgrader": {
     "cell_type": "code",
     "checksum": "3105df8b0505399be00acd19add426f3",
     "grade": true,
     "grade_id": "cell-e1c0f34535608b82",
     "locked": true,
     "points": 0.5,
     "schema_version": 3,
     "solution": false
    }
   },
   "outputs": [],
   "source": [
    "# They are too young to die!"
   ]
  },
  {
   "cell_type": "markdown",
   "metadata": {
    "deletable": false,
    "editable": false,
    "nbgrader": {
     "cell_type": "markdown",
     "checksum": "ef9964690401702457f97fd70766b10b",
     "grade": false,
     "grade_id": "cell-d80db8eac763d67f",
     "locked": true,
     "schema_version": 3,
     "solution": false,
     "task": false
    }
   },
   "source": [
    "### Question 1c: Arithmetic Mean of a List (2 points)\n",
    "\n",
    "The arithmetic mean of a series $x$ of $n$ numbers is defined as: $$ \\frac{1}{n} \\sum{x} $$.\n",
    "\n",
    "Write a function **arithmetic_mean(l)** that takes a non-empty list **l** and returns its arithmetic mean as a floating-point number."
   ]
  },
  {
   "cell_type": "code",
   "execution_count": 29,
   "metadata": {
    "deletable": false,
    "nbgrader": {
     "cell_type": "code",
     "checksum": "caa6a01f45412a32983a1588d42b7f48",
     "grade": false,
     "grade_id": "cell-4f1662bda2bb64cb",
     "locked": false,
     "schema_version": 3,
     "solution": true
    }
   },
   "outputs": [
    {
     "data": {
      "text/plain": [
       "3.0"
      ]
     },
     "execution_count": 29,
     "metadata": {},
     "output_type": "execute_result"
    }
   ],
   "source": [
    "def arithmetic_mean(l):\n",
    "    mean = sum(l)/len(l)\n",
    "    return mean\n",
    "\n",
    "arithmetic_mean([1,2,3,4,5])\n"
   ]
  },
  {
   "cell_type": "code",
   "execution_count": 30,
   "metadata": {
    "deletable": false,
    "editable": false,
    "nbgrader": {
     "cell_type": "code",
     "checksum": "f380dfa23b2c6972964aae3024de9700",
     "grade": false,
     "grade_id": "cell-e4763365e640f031",
     "locked": true,
     "schema_version": 3,
     "solution": false,
     "task": false
    }
   },
   "outputs": [
    {
     "name": "stdout",
     "output_type": "stream",
     "text": [
      "Are my sample test cases correct?\n",
      "Question #1c - Test Case #1 You Passed!\n",
      "Question #1c - Test Case #2 You Passed!\n",
      "Question #1c - Test Case #3 You Passed!\n"
     ]
    }
   ],
   "source": [
    "print(\"Are my sample test cases correct?\")\n",
    "print(\"Question #1c - Test Case #1\", \"You Passed!\" if arithmetic_mean([1,6,3,7,9,1]) == 4.5 else \"You Failed this Test Case!\")\n",
    "print(\"Question #1c - Test Case #2\", \"You Passed!\" if arithmetic_mean([1,2,3,4,5]) == 3.0 else \"You Failed this Test Case!\")\n",
    "print(\"Question #1c - Test Case #3\", \"You Passed!\" if arithmetic_mean([3,2,1,2,3,4,5,4,3,2]) == 2.9 else \"You Failed this Test Case!\")"
   ]
  },
  {
   "cell_type": "code",
   "execution_count": null,
   "metadata": {
    "deletable": false,
    "editable": false,
    "nbgrader": {
     "cell_type": "code",
     "checksum": "442558553ca21c3cf4a57eca87e9a2b5",
     "grade": true,
     "grade_id": "cell-3a32de1026482acd",
     "locked": true,
     "points": 0,
     "schema_version": 3,
     "solution": false
    }
   },
   "outputs": [],
   "source": [
    "# I ran out of hidden test case warning. How about a joke?"
   ]
  },
  {
   "cell_type": "code",
   "execution_count": null,
   "metadata": {
    "deletable": false,
    "editable": false,
    "nbgrader": {
     "cell_type": "code",
     "checksum": "d34d89e7e9a8a3094f26d1ab89519e95",
     "grade": true,
     "grade_id": "cell-610fb99d0ff84328",
     "locked": true,
     "points": 1,
     "schema_version": 3,
     "solution": false
    }
   },
   "outputs": [],
   "source": [
    "# We all know the 6 was afraid of 7 because 7 ate 9... But do you know why he did?"
   ]
  },
  {
   "cell_type": "code",
   "execution_count": null,
   "metadata": {
    "deletable": false,
    "editable": false,
    "nbgrader": {
     "cell_type": "code",
     "checksum": "291d3d6f99265617e3cb7e0c3c5b6002",
     "grade": true,
     "grade_id": "cell-559e7045f9d4cc12",
     "locked": true,
     "points": 1,
     "schema_version": 3,
     "solution": false
    }
   },
   "outputs": [],
   "source": [
    "# Because it is recommended you eat 3 squared meals a day... Hahahaha."
   ]
  },
  {
   "cell_type": "markdown",
   "metadata": {
    "deletable": false,
    "editable": false,
    "nbgrader": {
     "cell_type": "markdown",
     "checksum": "d2777fca9268ee8cb463e1a8cd75d5b8",
     "grade": false,
     "grade_id": "cell-f94131891f29bfc9",
     "locked": true,
     "schema_version": 3,
     "solution": false,
     "task": false
    }
   },
   "source": [
    "###  Question 2 : Dictionaries using Dictionaries (3 points)\n",
    "\n",
    "Create a python function 'transliterate', which accepts no arguments and returns a nested dictionary meeting the following requirements.  The purpose of this dictionary is to specify a language and a word or phrase, and get as a result the translation of that word or phrase in the specified language.  This will require double indexing, as seen in the test cases below.  \n",
    "\n",
    "The first key will be the language, the second the word to be translated.  Your dictionary must minimally contain entries for the languages: German, Icelandic, Japanese, and Polish.  The words to be translated will minimally be: Hello, Goodbye, and Acute Digestive Distress.  All words using Romanized characters must be capitalized.\n",
    "\n",
    "Translations are to be taken from the first/default result from entering the words or phrases into Google Translate.  The dictionary entries need to be character-correct, so accents and non-english characters must be present and accounted for.  \n",
    "\n",
    "HINT: For clarity and aesthetics, it is possible to put different likes of a long dictionary or list delcaration on different lines in the code.  One might declare a 2d list as shown below:"
   ]
  },
  {
   "cell_type": "code",
   "execution_count": 31,
   "metadata": {
    "deletable": false,
    "nbgrader": {
     "cell_type": "code",
     "checksum": "8e0f7ccb0469c1ef64f5b73cfd0cc34f",
     "grade": false,
     "grade_id": "cell-2988440bb20bb427",
     "locked": false,
     "schema_version": 3,
     "solution": true,
     "task": false
    }
   },
   "outputs": [
    {
     "data": {
      "text/plain": [
       "'Bráð Meltingartruflanir'"
      ]
     },
     "execution_count": 31,
     "metadata": {},
     "output_type": "execute_result"
    }
   ],
   "source": [
    "# This is a nested list. Do the same thing, but with dictionaries.\n",
    "# x = [ \n",
    "#    [1, 2], \n",
    "#    [3, 4] \n",
    "# ]\n",
    "\n",
    "def transliterate () :\n",
    "    dictionary = {'German':{'Hello':'Hallo' , \n",
    "                            'Goodbye':'Auf Wiedersehen', \n",
    "                            'Acute Digestive Distress': 'Akute Verdauungsbeschwerden'} ,\n",
    "                  'Icelandic':{'Hello':'Halló' , \n",
    "                                 'Goodbye':'Bless',\n",
    "                                 'Acute Digestive Distress':'Bráð Meltingartruflanir'} ,\n",
    "                  'Japanese':{'Hello':'こんにちは' ,\n",
    "                                'Goodbye':'さようなら',\n",
    "                                'Acute Digestive Distress':'急性消化不良'} ,\n",
    "                  'Polish':{'Hello':'Cześć' , \n",
    "                              'Goodbye':'Do widzenia' , \n",
    "                              'Acute Digestive Distress':'Ostre zaburzenia trawienia'}\n",
    "                 }\n",
    "    return dictionary\n",
    "\n",
    "transliterate()['Icelandic']['Acute Digestive Distress']\n"
   ]
  },
  {
   "cell_type": "code",
   "execution_count": 32,
   "metadata": {
    "deletable": false,
    "editable": false,
    "nbgrader": {
     "cell_type": "code",
     "checksum": "cec1eedccd2f67d85c42bf82f1e2d41a",
     "grade": false,
     "grade_id": "cell-77037ece8f0c5f6b",
     "locked": true,
     "schema_version": 3,
     "solution": false,
     "task": false
    }
   },
   "outputs": [
    {
     "name": "stdout",
     "output_type": "stream",
     "text": [
      "Are my sample test cases correct?\n",
      "Question #2 Test Case #1 You passed!\n",
      "Question #2 Test Case #2 You passed!\n",
      "Question #2 Test Case #3 You passed!\n"
     ]
    }
   ],
   "source": [
    "print(\"Are my sample test cases correct?\")\n",
    "print(\"Question #2 Test Case #1\", \"You passed!\" if transliterate()[\"German\"][\"Goodbye\"] == \"Auf Wiedersehen\" else \"You Failed this Test Case!\")\n",
    "print(\"Question #2 Test Case #2\", \"You passed!\" if transliterate()[\"Icelandic\"][\"Acute Digestive Distress\"] == \"Bráð Meltingartruflanir\" else \"You Failed this Test Case!\")\n",
    "print(\"Question #2 Test Case #3\", \"You passed!\" if transliterate()[\"Japanese\"][\"Hello\"] == \"こんにちは\" else \"You Failed this Test Case!\")"
   ]
  },
  {
   "cell_type": "code",
   "execution_count": null,
   "metadata": {
    "deletable": false,
    "editable": false,
    "nbgrader": {
     "cell_type": "code",
     "checksum": "12c63553a8cb6f5ecad76cae01bd896e",
     "grade": true,
     "grade_id": "cell-e314fbcffcd6ae5c",
     "locked": true,
     "points": 1,
     "schema_version": 3,
     "solution": false,
     "task": false
    }
   },
   "outputs": [],
   "source": [
    "# You should get not to touch this by now."
   ]
  },
  {
   "cell_type": "code",
   "execution_count": null,
   "metadata": {
    "deletable": false,
    "editable": false,
    "nbgrader": {
     "cell_type": "code",
     "checksum": "6ca8e0848d9bc4216d7e4a05e882f6a1",
     "grade": true,
     "grade_id": "cell-5dff643243fbd7b8",
     "locked": true,
     "points": 1,
     "schema_version": 3,
     "solution": false,
     "task": false
    }
   },
   "outputs": [],
   "source": [
    "# This one's name is Samantha :D"
   ]
  },
  {
   "cell_type": "code",
   "execution_count": null,
   "metadata": {
    "deletable": false,
    "editable": false,
    "nbgrader": {
     "cell_type": "code",
     "checksum": "5451dcbed0087a496f969f91c17fa9a0",
     "grade": true,
     "grade_id": "cell-006744f10b06b560",
     "locked": true,
     "points": 1,
     "schema_version": 3,
     "solution": false,
     "task": false
    }
   },
   "outputs": [],
   "source": [
    "# And this one is Michael."
   ]
  },
  {
   "cell_type": "markdown",
   "metadata": {
    "deletable": false,
    "editable": false,
    "nbgrader": {
     "cell_type": "markdown",
     "checksum": "8b05eb8022a9723e03ad14766eafa8a3",
     "grade": false,
     "grade_id": "cell-3ae944e9312f6650",
     "locked": true,
     "schema_version": 3,
     "solution": false,
     "task": false
    }
   },
   "source": [
    "### Question 3: Subset Sum (3 points)\n",
    "\n",
    "Write a function subsetsum(l, s) that determines if there are any two numbers in the list l that add to s.\n",
    "\n",
    "e.g., for ([1, 2, 3], 5), it would be True, since 2 + 3 = 5.\n",
    "<br>([1, 2, 3], 6) would be false since there are no two numbers that add to six in the list (you cannot use the same value of three twice). On the contrary, if the input were ([1, 2, 3, 3], 6), this would be true because there are two 3s in the list.\n",
    "\n",
    "You may assume `len(l) > 1`."
   ]
  },
  {
   "cell_type": "code",
   "execution_count": 39,
   "metadata": {
    "deletable": false,
    "nbgrader": {
     "cell_type": "code",
     "checksum": "93030fbe09869c6e3ad9c04d840f9ecd",
     "grade": false,
     "grade_id": "cell-56fe833be8ec0c52",
     "locked": false,
     "schema_version": 3,
     "solution": true
    }
   },
   "outputs": [
    {
     "data": {
      "text/plain": [
       "True"
      ]
     },
     "execution_count": 39,
     "metadata": {},
     "output_type": "execute_result"
    }
   ],
   "source": [
    "def subsetsum(l, s):\n",
    "    for i in l:\n",
    "        a = s - i\n",
    "        if a in l:\n",
    "            if l.count (a) > 1 :\n",
    "                return True\n",
    "            elif a in l and a != i:\n",
    "                return True\n",
    "        else:\n",
    "            continue\n",
    "    return False\n",
    "        \n",
    "subsetsum([1,2,2],4)\n"
   ]
  },
  {
   "cell_type": "code",
   "execution_count": 38,
   "metadata": {
    "deletable": false,
    "editable": false,
    "nbgrader": {
     "cell_type": "code",
     "checksum": "c12ea5d23c756c973c3a452abc6be0b2",
     "grade": false,
     "grade_id": "cell-4c493e9cb36bd14e",
     "locked": true,
     "schema_version": 3,
     "solution": false,
     "task": false
    }
   },
   "outputs": [
    {
     "name": "stdout",
     "output_type": "stream",
     "text": [
      "Are my sample test cases correct?\n",
      "Question #3 Test Case #1 You Passed!\n",
      "Question #3 Test Case #2 You Passed!\n",
      "Question #3 Test Case #3 You Passed!\n"
     ]
    }
   ],
   "source": [
    "print(\"Are my sample test cases correct?\")\n",
    "print(\"Question #3 Test Case #1\", \"You Passed!\" if subsetsum([1, 2, 3], 5) else \"You Failed this Test Case!\")\n",
    "print(\"Question #3 Test Case #2\", \"You Passed!\" if not(subsetsum([1, 2, 2], 5)) else \"You Failed this Test Case!\")\n",
    "print(\"Question #3 Test Case #3\", \"You Passed!\" if subsetsum([1, 2, 3, 3], 6) else \"You Failed this Test Case!\")"
   ]
  },
  {
   "cell_type": "code",
   "execution_count": null,
   "metadata": {
    "deletable": false,
    "editable": false,
    "nbgrader": {
     "cell_type": "code",
     "checksum": "672d036c0c0e8b80c5767cc0cd3ba38b",
     "grade": true,
     "grade_id": "cell-ca105771be89b50d",
     "locked": true,
     "points": 1,
     "schema_version": 3,
     "solution": false
    }
   },
   "outputs": [],
   "source": [
    "# How much do you think I will type?"
   ]
  },
  {
   "cell_type": "code",
   "execution_count": null,
   "metadata": {
    "deletable": false,
    "editable": false,
    "nbgrader": {
     "cell_type": "code",
     "checksum": "af78a90687e083a58c174ab49e715408",
     "grade": true,
     "grade_id": "cell-39d6d7293c014c3a",
     "locked": true,
     "points": 1,
     "schema_version": 3,
     "solution": false
    }
   },
   "outputs": [],
   "source": [
    "# There are only so many private test cases in an assignment"
   ]
  },
  {
   "cell_type": "code",
   "execution_count": null,
   "metadata": {
    "deletable": false,
    "editable": false,
    "nbgrader": {
     "cell_type": "code",
     "checksum": "f04937f649dd08a61b413a541dcb9275",
     "grade": true,
     "grade_id": "cell-c58bba4cad3030c9",
     "locked": true,
     "points": 1,
     "schema_version": 3,
     "solution": false
    }
   },
   "outputs": [],
   "source": [
    "# I make this look easier than it is."
   ]
  },
  {
   "cell_type": "markdown",
   "metadata": {
    "deletable": false,
    "editable": false,
    "nbgrader": {
     "cell_type": "markdown",
     "checksum": "9b9b6c17bee5f2e1e8076c54821d6d77",
     "grade": false,
     "grade_id": "cell-6033581797a5a2ab",
     "locked": true,
     "schema_version": 3,
     "solution": false,
     "task": false
    }
   },
   "source": [
    "### Question 4a: Shortening Sentences (2 points)\n",
    "To speed up texting your friends, you are thinking of leaving out all vowels. Write a Python function `shorten(s)` that takes an arbitrary string and removes all uppercase and lowercase vowels."
   ]
  },
  {
   "cell_type": "code",
   "execution_count": 66,
   "metadata": {
    "deletable": false,
    "nbgrader": {
     "cell_type": "code",
     "checksum": "63015cd3bd526da6f7c2527b5d7b312a",
     "grade": false,
     "grade_id": "cell-65c8032599b11d2d",
     "locked": false,
     "schema_version": 3,
     "solution": true
    }
   },
   "outputs": [
    {
     "data": {
      "text/plain": [
       "'qng'"
      ]
     },
     "execution_count": 66,
     "metadata": {},
     "output_type": "execute_result"
    }
   ],
   "source": [
    "def shorten(s):\n",
    "    for i in s:\n",
    "        if i.lower() in ['a','e','i','o','u']:\n",
    "            s=s.replace(i,'')\n",
    "    return s\n",
    "\n",
    "shorten('queueing')\n"
   ]
  },
  {
   "cell_type": "code",
   "execution_count": 67,
   "metadata": {
    "deletable": false,
    "editable": false,
    "nbgrader": {
     "cell_type": "code",
     "checksum": "356113fb1ec980cbf43cbb69476f0373",
     "grade": false,
     "grade_id": "cell-84e996ec85b57afd",
     "locked": true,
     "schema_version": 3,
     "solution": false,
     "task": false
    }
   },
   "outputs": [
    {
     "name": "stdout",
     "output_type": "stream",
     "text": [
      "Are my sample test cases correct?\n",
      "Question 4a Test Case #1 You Passed!\n",
      "Question 4a Test Case #2 You Passed!\n",
      "Question 4a Test Case #3 You Passed!\n"
     ]
    }
   ],
   "source": [
    "print(\"Are my sample test cases correct?\")\n",
    "print(\"Question 4a Test Case #1\", \"You Passed!\" if shorten(\"Something always happens when I'm trying to concentrate!\") == \"Smthng lwys hppns whn 'm tryng t cncntrt!\" else \"You Failed this Test Case!\")\n",
    "print(\"Question 4a Test Case #2\", \"You Passed!\" if shorten(\"I am the very model of a modern major general\") == ' m th vry mdl f  mdrn mjr gnrl' else \"You Failed this Test Case!\")\n",
    "print(\"Question 4a Test Case #3\", \"You Passed!\" if shorten(\"queueing\") == \"qng\" else \"You Failed this Test Case!\")\n"
   ]
  },
  {
   "cell_type": "code",
   "execution_count": null,
   "metadata": {
    "deletable": false,
    "editable": false,
    "nbgrader": {
     "cell_type": "code",
     "checksum": "19114f0fcafed426afa4cbef3b5195b7",
     "grade": true,
     "grade_id": "cell-0d5a06250221fe31",
     "locked": true,
     "points": 0,
     "schema_version": 3,
     "solution": false
    }
   },
   "outputs": [],
   "source": [
    "# Have you ever played Realm Grinder?"
   ]
  },
  {
   "cell_type": "code",
   "execution_count": null,
   "metadata": {
    "deletable": false,
    "editable": false,
    "nbgrader": {
     "cell_type": "code",
     "checksum": "4b347bb38632e386c3d53ce92927f6df",
     "grade": true,
     "grade_id": "cell-19680394a6728f48",
     "locked": true,
     "points": 0,
     "schema_version": 3,
     "solution": false
    }
   },
   "outputs": [],
   "source": [
    "# If not, don't do it. It's addicting."
   ]
  },
  {
   "cell_type": "code",
   "execution_count": null,
   "metadata": {
    "deletable": false,
    "editable": false,
    "nbgrader": {
     "cell_type": "code",
     "checksum": "c0301761204819f7c3eb456795d86b99",
     "grade": true,
     "grade_id": "cell-ed072a06d32bf5d6",
     "locked": true,
     "points": 1,
     "schema_version": 3,
     "solution": false
    }
   },
   "outputs": [],
   "source": [
    "# It's essentially Cookie Clicker,"
   ]
  },
  {
   "cell_type": "code",
   "execution_count": null,
   "metadata": {
    "deletable": false,
    "editable": false,
    "nbgrader": {
     "cell_type": "code",
     "checksum": "bd687f97b522b0e19ff4a0836ac73ffd",
     "grade": true,
     "grade_id": "cell-ca95196d125f3cf6",
     "locked": true,
     "points": 1,
     "schema_version": 3,
     "solution": false
    }
   },
   "outputs": [],
   "source": [
    "# But, like, 100 times better."
   ]
  },
  {
   "cell_type": "markdown",
   "metadata": {
    "deletable": false,
    "editable": false,
    "nbgrader": {
     "cell_type": "markdown",
     "checksum": "7bf9ba4225b333dfe2cba6a6812535f1",
     "grade": false,
     "grade_id": "cell-40dcde95084f6d00",
     "locked": true,
     "schema_version": 3,
     "solution": false,
     "task": false
    }
   },
   "source": [
    "### Question 4b: Shortening Sentence II (4 points)\n",
    "\n",
    "You find out that the resulting words are sometime incomprehensible and like to improve your method by removing only those vowels that directly follow another letter. This means keeping the vowel at the beginning of a word--specifically, any letter following a space. Write a Python function `shortenPlus(s)` that takes an arbitrary string and removes some vowels."
   ]
  },
  {
   "cell_type": "code",
   "execution_count": 79,
   "metadata": {
    "deletable": false,
    "nbgrader": {
     "cell_type": "code",
     "checksum": "54d230b2173d37710147f84bc95e01f6",
     "grade": false,
     "grade_id": "cell-1ba4c37aaa3df114",
     "locked": false,
     "schema_version": 3,
     "solution": true
    },
    "scrolled": true
   },
   "outputs": [
    {
     "data": {
      "text/plain": [
       "\"I'v infrmtn vgtbl, anml and mnrl\""
      ]
     },
     "execution_count": 79,
     "metadata": {},
     "output_type": "execute_result"
    }
   ],
   "source": [
    "def shortenPlus(s):\n",
    "    l=s.split()\n",
    "    x = \"\"\n",
    "    for word in l:\n",
    "        for i in range ( len ( word )):\n",
    "            if i==0:\n",
    "                x = x + word[i]\n",
    "            else:\n",
    "                if word[i].lower() not in ['a','e','i','o','u']:\n",
    "                    x = x + word[i]\n",
    "        x = x + ' '\n",
    "    return x.rstrip()\n",
    "\n",
    "shortenPlus(\"I've information vegetable, animal and mineral\")\n"
   ]
  },
  {
   "cell_type": "code",
   "execution_count": 80,
   "metadata": {
    "deletable": false,
    "editable": false,
    "nbgrader": {
     "cell_type": "code",
     "checksum": "641e57a1bc007c54d0543529d98b9c90",
     "grade": false,
     "grade_id": "cell-f56b33f221a72772",
     "locked": true,
     "schema_version": 3,
     "solution": false,
     "task": false
    }
   },
   "outputs": [
    {
     "name": "stdout",
     "output_type": "stream",
     "text": [
      "Are my sample test cases correct?\n",
      "Question 4b Test Case #1 You Passed!\n",
      "Question 4b Test Case #2 You Passed!\n",
      "Question 4b Test Case #3 You Passed!\n"
     ]
    }
   ],
   "source": [
    "print(\"Are my sample test cases correct?\")\n",
    "print(\"Question 4b Test Case #1\", \"You Passed!\" if shortenPlus(\"I've information vegetable, animal and mineral\") == \"I'v infrmtn vgtbl, anml and mnrl\" else \"You Failed this Test Case!\")\n",
    "print(\"Question 4b Test Case #2\", \"You Passed!\" if shortenPlus(\"I know the kings of England and I quote the facts historical\") == 'I knw th kngs of Englnd and I qt th fcts hstrcl' else \"You Failed this Test Case!\")\n",
    "print(\"Question 4b Test Case #3\", \"You Passed!\" if shortenPlus(\"From Marathon to Waterloo in order categorical\") == 'Frm Mrthn t Wtrl in ordr ctgrcl' else \"You Failed this Test Case!\")"
   ]
  },
  {
   "cell_type": "code",
   "execution_count": 74,
   "metadata": {
    "deletable": false,
    "editable": false,
    "nbgrader": {
     "cell_type": "code",
     "checksum": "df1919ea540a6fce9e348400735f936e",
     "grade": true,
     "grade_id": "cell-b87ffa5ceede2d97",
     "locked": true,
     "points": 1,
     "schema_version": 3,
     "solution": false
    }
   },
   "outputs": [],
   "source": [
    "# Who is funnier: Nick Moore or Mark Hutchison?"
   ]
  },
  {
   "cell_type": "code",
   "execution_count": null,
   "metadata": {
    "deletable": false,
    "editable": false,
    "nbgrader": {
     "cell_type": "code",
     "checksum": "5b983b2ed2e9d145f7987f7c290e1162",
     "grade": true,
     "grade_id": "cell-f4090e185350a4a4",
     "locked": true,
     "points": 1,
     "schema_version": 3,
     "solution": false
    }
   },
   "outputs": [],
   "source": [
    "# Trick Question. We all know the answer is Nick."
   ]
  },
  {
   "cell_type": "code",
   "execution_count": null,
   "metadata": {
    "deletable": false,
    "editable": false,
    "nbgrader": {
     "cell_type": "code",
     "checksum": "e35449d4233693e92ab3357c1b298edf",
     "grade": true,
     "grade_id": "cell-57076d342b508fbf",
     "locked": true,
     "points": 1,
     "schema_version": 3,
     "solution": false
    }
   },
   "outputs": [],
   "source": [
    "# And I am not contractually obligated to say that."
   ]
  },
  {
   "cell_type": "code",
   "execution_count": null,
   "metadata": {
    "deletable": false,
    "editable": false,
    "nbgrader": {
     "cell_type": "code",
     "checksum": "a430e2eeea567a9d17ea542bad86a4eb",
     "grade": true,
     "grade_id": "cell-98104977cfd2ac53",
     "locked": true,
     "points": 1,
     "schema_version": 3,
     "solution": false
    }
   },
   "outputs": [],
   "source": [
    "# Don't tell him about these messages. It is funnier that way."
   ]
  },
  {
   "cell_type": "markdown",
   "metadata": {
    "deletable": false,
    "editable": false,
    "nbgrader": {
     "cell_type": "markdown",
     "checksum": "29e235071760140edc066d682c4920cc",
     "grade": false,
     "grade_id": "cell-7aee9502220ae2c4",
     "locked": true,
     "schema_version": 3,
     "solution": false,
     "task": false
    }
   },
   "source": [
    "### Question 5a: University Majors (3 points)\n",
    "\n",
    "Given a dictionary that tells you a person's major, write a Python function that, given a person's name and a major, returns `True` if that person is majoring that subject, and `False` otherwise.  Also return false if the student is not in the list of students.  "
   ]
  },
  {
   "cell_type": "code",
   "execution_count": 17,
   "metadata": {
    "deletable": false,
    "nbgrader": {
     "cell_type": "code",
     "checksum": "4d19839055b48004beace98fa102c389",
     "grade": false,
     "grade_id": "cell-bb25ab5ea4a52366",
     "locked": false,
     "schema_version": 3,
     "solution": true
    }
   },
   "outputs": [
    {
     "data": {
      "text/plain": [
       "True"
      ]
     },
     "execution_count": 17,
     "metadata": {},
     "output_type": "execute_result"
    }
   ],
   "source": [
    "def check_major(name, major, majors_1):\n",
    "    for name in majors_1.keys():\n",
    "        if majors_1[name] == major:\n",
    "            return True\n",
    "    else:\n",
    "        return False\n",
    "    \n",
    "majors_1 = {\n",
    "    \"Josh\": \"Engineering\", \n",
    "    \"Carol\": \"Accounting\", \n",
    "    \"Douglas\": \"Art History\", \n",
    "    \"Irene\": \"Engineering\", \n",
    "    \"Robert\": \"Engineering\", \n",
    "    \"Christine\": \"Accounting\", \n",
    "    \"Nick\": \"Underwater Basket Weaving\", \n",
    "    \"Charles\": \"Accounting\"\n",
    "}    \n",
    "check_major(\"Nick\", \"Underwater Basket Weaving\", majors_1)\n"
   ]
  },
  {
   "cell_type": "code",
   "execution_count": 18,
   "metadata": {
    "deletable": false,
    "editable": false,
    "nbgrader": {
     "cell_type": "code",
     "checksum": "6fd43c8bdda8a87d53e6269b32636c53",
     "grade": false,
     "grade_id": "cell-ddf35757c36010bd",
     "locked": true,
     "schema_version": 3,
     "solution": false,
     "task": false
    }
   },
   "outputs": [
    {
     "name": "stdout",
     "output_type": "stream",
     "text": [
      "Are my sample test cases correct?\n",
      "Question 5a Test Case #1 You Passed!\n",
      "Question 5a Test Case #2 You Passed!\n",
      "Question 5a Test Case #3 You Passed!\n"
     ]
    }
   ],
   "source": [
    "majors_1 = {\n",
    "    \"Josh\": \"Engineering\", \n",
    "    \"Carol\": \"Accounting\", \n",
    "    \"Douglas\": \"Art History\", \n",
    "    \"Irene\": \"Engineering\", \n",
    "    \"Robert\": \"Engineering\", \n",
    "    \"Christine\": \"Accounting\", \n",
    "    \"Nick\": \"Underwater Basket Weaving\", \n",
    "    \"Charles\": \"Accounting\"\n",
    "}\n",
    "print(\"Are my sample test cases correct?\")\n",
    "print(\"Question 5a Test Case #1\", \"You Passed!\" if check_major(\"Douglas\", \"Art History\", majors_1) else \"You Failed this Test Case!\")\n",
    "print(\"Question 5a Test Case #2\", \"You Passed!\" if not(check_major(\"Irene\", \"A Major That Doesn't Exist\", majors_1)) else \"You Failed this Test Case!\")\n",
    "print(\"Question 5a Test Case #3\", \"You Passed!\" if check_major(\"Nick\", \"Underwater Basket Weaving\", majors_1) else \"You Failed this Test Case!\")"
   ]
  },
  {
   "cell_type": "code",
   "execution_count": null,
   "metadata": {
    "deletable": false,
    "editable": false,
    "nbgrader": {
     "cell_type": "code",
     "checksum": "555053c5a0c9abdf8211223fc4639fb6",
     "grade": true,
     "grade_id": "cell-35911cbc81bec71f",
     "locked": true,
     "points": 1,
     "schema_version": 3,
     "solution": false
    }
   },
   "outputs": [],
   "source": [
    "# You know, I have never even though about Nick in a swimsuit until now."
   ]
  },
  {
   "cell_type": "code",
   "execution_count": null,
   "metadata": {
    "deletable": false,
    "editable": false,
    "nbgrader": {
     "cell_type": "code",
     "checksum": "856f6a232e67c6580d693da5b02564ca",
     "grade": true,
     "grade_id": "cell-91abd320266ae175",
     "locked": true,
     "points": 1,
     "schema_version": 3,
     "solution": false
    }
   },
   "outputs": [],
   "source": [
    "# These assignments really do make you think, don't they?"
   ]
  },
  {
   "cell_type": "code",
   "execution_count": null,
   "metadata": {
    "deletable": false,
    "editable": false,
    "nbgrader": {
     "cell_type": "code",
     "checksum": "224521770ee7639c90e1ee26b7f13059",
     "grade": true,
     "grade_id": "cell-ce4735f27a5f058f",
     "locked": true,
     "points": 1,
     "schema_version": 3,
     "solution": false,
     "task": false
    }
   },
   "outputs": [],
   "source": [
    "# In case you forgot, allow me to remind you this is a private test case :D"
   ]
  },
  {
   "cell_type": "markdown",
   "metadata": {
    "deletable": false,
    "editable": false,
    "nbgrader": {
     "cell_type": "markdown",
     "checksum": "b6ce8fdd50be71b7c15975c715737160",
     "grade": false,
     "grade_id": "cell-6d74b2d65dc46dfa",
     "locked": true,
     "schema_version": 3,
     "solution": false,
     "task": false
    }
   },
   "source": [
    "### Question 5b: University Majors II (3 points)\n",
    "\n",
    "Given a dictonary that instead maps majors to lists of names, repeat the above question."
   ]
  },
  {
   "cell_type": "code",
   "execution_count": 90,
   "metadata": {
    "deletable": false,
    "nbgrader": {
     "cell_type": "code",
     "checksum": "92c7ff4937b7f5f70104fe3d3e17384e",
     "grade": false,
     "grade_id": "cell-8e040c7a1188ffc0",
     "locked": false,
     "schema_version": 3,
     "solution": true
    }
   },
   "outputs": [
    {
     "name": "stdout",
     "output_type": "stream",
     "text": [
      "True\n"
     ]
    }
   ],
   "source": [
    "def check_major2(name, major, majors_2):\n",
    "    if major in majors_2.keys():\n",
    "        if name in majors_2[major]:\n",
    "            return True\n",
    "    else:\n",
    "        return False\n",
    "    \n",
    "majors_2 = {\"Engineering\": [\"Josh\", \"Robert\", \"Irene\"], \n",
    "            \"Accounting\": [\"Carol\", \"Christine\", \"Charles\"], \n",
    "            \"Art History\": [\"Douglas\"], \n",
    "            \"Underwater Basket Weaving\": [\"Nick\"]}\n",
    "\n",
    "print (check_major2(\"Carol\" , \"Accounting\" , majors_2))\n",
    "\n"
   ]
  },
  {
   "cell_type": "code",
   "execution_count": 91,
   "metadata": {
    "deletable": false,
    "editable": false,
    "nbgrader": {
     "cell_type": "code",
     "checksum": "9d0ab0116fd9167c9840f19c8c267d1d",
     "grade": false,
     "grade_id": "cell-985664030ceaf546",
     "locked": true,
     "schema_version": 3,
     "solution": false,
     "task": false
    }
   },
   "outputs": [
    {
     "name": "stdout",
     "output_type": "stream",
     "text": [
      "Are my sample test cases correct?\n",
      "Question 5b Test Case #1 You Passed!\n",
      "Question 5b Test Case #2 You Passed!\n",
      "Question 5b Test Case #3 You Passed!\n"
     ]
    }
   ],
   "source": [
    "majors_2 = {\"Engineering\": [\"Josh\", \"Robert\", \"Irene\"], \"Accounting\": [\"Carol\", \"Christine\", \"Charles\"], \"Art History\": [\"Douglas\"], \"Underwater Basket Weaving\": [\"Nick\"]}\n",
    "print(\"Are my sample test cases correct?\")\n",
    "print(\"Question 5b Test Case #1\", \"You Passed!\" if check_major2(\"Douglas\", \"Art History\", majors_2) else \"You Failed this Test Case!\")\n",
    "print(\"Question 5b Test Case #2\", \"You Passed!\" if not(check_major2(\"Irene\", \"A Major That Doesn't Exist\", majors_2)) else \"You Failed this Test Case!\")\n",
    "print(\"Question 5b Test Case #3\", \"You Passed!\" if check_major2(\"Nick\", \"Underwater Basket Weaving\", majors_2) else \"You Failed this Test Case!\")"
   ]
  },
  {
   "cell_type": "code",
   "execution_count": null,
   "metadata": {
    "deletable": false,
    "editable": false,
    "nbgrader": {
     "cell_type": "code",
     "checksum": "efd48032778b6c4f4783063dd664531c",
     "grade": true,
     "grade_id": "cell-1170c86ad0e1eeb9",
     "locked": true,
     "points": 1,
     "schema_version": 3,
     "solution": false
    }
   },
   "outputs": [],
   "source": []
  },
  {
   "cell_type": "code",
   "execution_count": null,
   "metadata": {
    "deletable": false,
    "editable": false,
    "nbgrader": {
     "cell_type": "code",
     "checksum": "07f736f691c6fd3c278a0aa52fb58a41",
     "grade": true,
     "grade_id": "cell-07189e0cad7a1a2c",
     "locked": true,
     "points": 1,
     "schema_version": 3,
     "solution": false
    }
   },
   "outputs": [],
   "source": []
  },
  {
   "cell_type": "code",
   "execution_count": null,
   "metadata": {
    "deletable": false,
    "editable": false,
    "nbgrader": {
     "cell_type": "code",
     "checksum": "196b3625a378a65d84e0f7ab8f5e6854",
     "grade": true,
     "grade_id": "cell-cb4a1de3c179ed01",
     "locked": true,
     "points": 1,
     "schema_version": 3,
     "solution": false,
     "task": false
    }
   },
   "outputs": [],
   "source": []
  },
  {
   "cell_type": "markdown",
   "metadata": {
    "deletable": false,
    "editable": false,
    "nbgrader": {
     "cell_type": "markdown",
     "checksum": "66ffcae1066f94cf42fcff9ae5f9c6c9",
     "grade": false,
     "grade_id": "cell-3ead098a7d2cf9c5",
     "locked": true,
     "schema_version": 3,
     "solution": false,
     "task": false
    }
   },
   "source": [
    "### Question 6 - Checksum Shortening (4 points)\n",
    "\n",
    "In computing, a checksum is a simple but effective way to verify the integrity of transmitted data. A checksum is an analysis of data to an extent. If I send you 24 bits of data, it is likely you only need 16 of those bits to verify that the data came from me, meaning it takes less time to verify authenticity.\n",
    "\n",
    "Given a list of data and a checksum value, return true or false, based on whether the data matches the checksum value.  \n",
    "\n",
    "To compute the data from the checksum value, compute the sum of the list. Then convert the sum into a binary number. Compute the four least significant bits of the sum and return from the function whether or not these four bits match the checksum given as an argument.  \n",
    "\n",
    "This may be helpful, but you can complete this question without using these operators: https://wiki.python.org/moin/BitwiseOperators\n",
    "\n",
    "\n",
    "For those who are unaware, the 4 least significant bits are bits of a binary number furthest to the right.\n",
    "\n",
    "**For Example:**\n",
    "\n",
    "1. The number 34 in binary is `00100010`\n",
    "2. The 4 least significant bits are `0010`, which is the number two\n",
    "3. Therefore, the checksum of `34` is `2`, which is `0x2` in Hexadecimal."
   ]
  },
  {
   "cell_type": "code",
   "execution_count": 19,
   "metadata": {
    "deletable": false,
    "nbgrader": {
     "cell_type": "code",
     "checksum": "5b2f84aca4f2fcc370ab3c04ff727272",
     "grade": false,
     "grade_id": "cell-ce9ecc08bbfd23f0",
     "locked": false,
     "schema_version": 3,
     "solution": true
    }
   },
   "outputs": [
    {
     "data": {
      "text/plain": [
       "True"
      ]
     },
     "execution_count": 19,
     "metadata": {},
     "output_type": "execute_result"
    }
   ],
   "source": [
    "def checksum (l, checksumValue) :\n",
    "    add = sum(l)\n",
    "    num = bin(add)\n",
    "    lsig = num [-4:]\n",
    "    y=hex(int(lsig,2))\n",
    "    if y == hex(checksumValue):\n",
    "        return True\n",
    "    else:\n",
    "        return False\n",
    "    \n",
    "checksum([152,627,925,857,821,122,625,334,675], 0x2)\n",
    "    \n",
    "\n"
   ]
  },
  {
   "cell_type": "code",
   "execution_count": 20,
   "metadata": {
    "deletable": false,
    "editable": false,
    "nbgrader": {
     "cell_type": "code",
     "checksum": "8895dbad2bdcedb00da18f71c432d012",
     "grade": false,
     "grade_id": "cell-206cb5c8a1cdaf60",
     "locked": true,
     "schema_version": 3,
     "solution": false,
     "task": false
    }
   },
   "outputs": [
    {
     "name": "stdout",
     "output_type": "stream",
     "text": [
      "Are my sample test cases correct?\n",
      "Question 6 Test Case #1 You Passed!\n",
      "Question 6 Test Case #2 You Passed!\n",
      "Question 6 Test Case #3 You Passed!\n"
     ]
    }
   ],
   "source": [
    "print(\"Are my sample test cases correct?\")\n",
    "print(\"Question 6 Test Case #1\", \"You Passed!\" if checksum([152,627,925,857,821,122,625,334,675], 0x2) else \"You Failed this Test Case!\")\n",
    "print(\"Question 6 Test Case #2\", \"You Passed!\" if checksum([13,72,83,94,14,52,62,72,52,31,7,13,77,25], 0xB) else \"You Failed this Test Case!\")\n",
    "print(\"Question 6 Test Case #3\", \"You Passed!\" if checksum([92573974,18629742,57929859,19349291,39869296476], 0xE) else \"You Failed this Test Case!\") "
   ]
  },
  {
   "cell_type": "code",
   "execution_count": 160,
   "metadata": {
    "deletable": false,
    "editable": false,
    "nbgrader": {
     "cell_type": "code",
     "checksum": "28f22ea382ce83d69aff5fb415755499",
     "grade": true,
     "grade_id": "cell-c5f84d592b0ed89e",
     "locked": true,
     "points": 1,
     "schema_version": 3,
     "solution": false
    }
   },
   "outputs": [],
   "source": [
    "# I believe in you."
   ]
  },
  {
   "cell_type": "code",
   "execution_count": 161,
   "metadata": {
    "deletable": false,
    "editable": false,
    "nbgrader": {
     "cell_type": "code",
     "checksum": "b0aa26911fd68af2bdf5c4adac54fe86",
     "grade": true,
     "grade_id": "cell-2f811803549e4647",
     "locked": true,
     "points": 2,
     "schema_version": 3,
     "solution": false
    }
   },
   "outputs": [],
   "source": [
    "# Just code a little harder!"
   ]
  },
  {
   "cell_type": "code",
   "execution_count": null,
   "metadata": {
    "deletable": false,
    "editable": false,
    "nbgrader": {
     "cell_type": "code",
     "checksum": "6207f89dfdc89e149a691e954710cf53",
     "grade": true,
     "grade_id": "cell-763d7ab321f16144",
     "locked": true,
     "points": 1,
     "schema_version": 3,
     "solution": false
    }
   },
   "outputs": [],
   "source": [
    "# You can sleep after you are done!"
   ]
  },
  {
   "cell_type": "markdown",
   "metadata": {},
   "source": [
    "### Bonus: 1337 h4x0r (6 p01n+\\$)\n",
    "\n",
    "Write a function that translates an English sentence to leetspeak.\n",
    "\n",
    "<br>Hints: You will want to turn your sentence into a list of words, replace those, and then turn it back into a sentence before replacing letters. To turn a list of words into a sentence, you can use the syntax:\n",
    "<br>`new_sentence = \" \".join(old_list)`\n",
    "<br>This will join all the values in \"old list\" into a string, separated by spaces.\n",
    "<br>If you want to determine if a word is in your dictionary, use \"if word in dictionary.keys()\"\n",
    "\n",
    "You may assume that the sentences are, much like YouTube comments, devoid of any punctuation or capitalization.\n",
    "\n",
    "\n",
    "Use the following general algorithm:\n",
    "Replace the following words:<ul>\n",
    "<li>elite -> leet\n",
    "<li>the -> teh\n",
    "<li>hacker -> haxor\n",
    "<li>hack -> hax\n",
    "<li>own -> pwn\n",
    "<li>owned -> pwned\n",
    "<li>dude -> dood\n",
    "<li>rocks -> roxxorz\n",
    "<li>awesome -> awezome            \n",
    "<li>internet -> teh tubes\n",
    "<li>ever -> evarr\n",
    "<li>1md3 -> most awesome course ever\n",
    "</ul>\n",
    "<br>If any word ends with an 's', replace it with a 'z'\n",
    "\n",
    "Replace the following letters:<ul>\n",
    "<li>a -> \"@\"\n",
    "<li>e -> \"3\"\n",
    "<li>t -> \"7\"\n",
    "<li>l -> \"1\"\n",
    "<li>o -> \"0\"\n",
    "<li>s -> \"$\"\n",
    "</ul>\n",
    "\n",
    "Replace the words before replacing the letters, so that the replaced words will have the replaced letters."
   ]
  },
  {
   "cell_type": "code",
   "execution_count": 23,
   "metadata": {
    "deletable": false,
    "nbgrader": {
     "cell_type": "code",
     "checksum": "5470fc7e262d46953c12b19b1f787645",
     "grade": false,
     "grade_id": "cell-3cfdf97d4124c821",
     "locked": false,
     "schema_version": 3,
     "solution": true
    }
   },
   "outputs": [
    {
     "data": {
      "text/plain": [
       "'I und3r$7@nd 3qu@7i0nz b07h 73h $imp13 @nd qu@dr@7ic@1'"
      ]
     },
     "execution_count": 23,
     "metadata": {},
     "output_type": "execute_result"
    }
   ],
   "source": [
    "def leet(s):\n",
    "    dict = {\n",
    "            'elite' : 'leet' ,\n",
    "            'the' : 'teh' ,\n",
    "            'hacker' : 'haxor' ,\n",
    "            'hack' : 'hax' ,\n",
    "            'own' : 'pwn' ,\n",
    "            'owned' : 'pwned' ,\n",
    "            'dude' : 'dood' ,\n",
    "            'rocks' : 'roxxorz' ,\n",
    "            'awesome' : 'awezome' ,\n",
    "            'internet' : 'teh tubes' ,\n",
    "            'ever' : 'evarr' ,\n",
    "            '1md3' : 'most awesome course ever'\n",
    "           }\n",
    "    l=s.split()\n",
    "    a=[]\n",
    "    for word in l:\n",
    "        if word in dict.keys():\n",
    "            if dict[word][-1].lower() == 's':\n",
    "                a.append(dict[word].replace(dict[word][-1] , 'z'))\n",
    "            else: \n",
    "                a.append(dict[word])\n",
    "        else:\n",
    "            if word[-1].lower() == 's':\n",
    "                a.append(word[0:len(word)-1] + 'z')\n",
    "            else:\n",
    "                a.append(word)\n",
    "    \n",
    "    newsentence = \" \".join(a)  \n",
    "    \n",
    "    for i in newsentence:\n",
    "        if i == 'a':\n",
    "            newsentence = newsentence.replace(i,'@')\n",
    "        elif i == 'e':\n",
    "            newsentence = newsentence.replace(i,'3')\n",
    "        elif i == 't':\n",
    "            newsentence = newsentence.replace(i,'7')\n",
    "        elif i == 'l':\n",
    "            newsentence = newsentence.replace(i,'1')\n",
    "        elif i == 'o':\n",
    "            newsentence = newsentence.replace(i,'0')\n",
    "        elif i == 's':\n",
    "            newsentence = newsentence.replace(i,'$')\n",
    "            \n",
    "            \n",
    "    return newsentence\n",
    "\n",
    "leet(\"I understand equations both the simple and quadratical\")\n"
   ]
  },
  {
   "cell_type": "code",
   "execution_count": 24,
   "metadata": {
    "deletable": false,
    "editable": false,
    "nbgrader": {
     "cell_type": "code",
     "checksum": "e9497a82fbc7d2496a69915fe36f14a2",
     "grade": false,
     "grade_id": "cell-101da9f5a5f2dfa4",
     "locked": true,
     "schema_version": 3,
     "solution": false,
     "task": false
    }
   },
   "outputs": [
    {
     "name": "stdout",
     "output_type": "stream",
     "text": [
      "How'd I do?!\n",
      "Bonus Test Case #1 You Passed!\n",
      "Bonus Test Case #2 You Passed!\n",
      "Bonus Test Case #3 You Passed!\n",
      "Bonus Test Case #4 You Passed!\n"
     ]
    }
   ],
   "source": [
    "print(\"How'd I do?!\")\n",
    "print(\"Bonus Test Case #1\", \"You Passed!\" if leet(\"I'm very well acquainted too with matters mathematical\") == \"I'm v3ry w311 @cqu@in73d 700 wi7h m@773rz m@7h3m@7ic@1\" else \"You Failed this Test Case!\")\n",
    "print(\"Bonus Test Case #2\", \"You Passed!\" if leet(\"I understand equations both the simple and quadratical\") == \"I und3r$7@nd 3qu@7i0nz b07h 73h $imp13 @nd qu@dr@7ic@1\" else \"You Failed this Test Case!\")\n",
    "print(\"Bonus Test Case #3\", \"You Passed!\" if leet(\"About binomial theorem I'm teeming with a lot of news\") == \"Ab0u7 bin0mi@1 7h30r3m I'm 733ming wi7h @ 107 0f n3wz\" else \"You Failed this Test Case!\")\n",
    "print(\"Bonus Test Case #4\", \"You Passed!\" if leet(\"With many cheerful facts about the square of the hypotenuse!\") == \"Wi7h m@ny ch33rfu1 f@c7z @b0u7 73h $qu@r3 0f 73h hyp073nu$3!\" else \"You Failed this Test Case!\")"
   ]
  },
  {
   "cell_type": "code",
   "execution_count": null,
   "metadata": {
    "deletable": false,
    "editable": false,
    "nbgrader": {
     "cell_type": "code",
     "checksum": "472e04d5f644c2cc643a866c6bbad071",
     "grade": true,
     "grade_id": "cell-6cab645b7f1e46bd",
     "locked": true,
     "points": 2,
     "schema_version": 3,
     "solution": false
    }
   },
   "outputs": [],
   "source": [
    "# Have you looked into Python's .split() method?"
   ]
  },
  {
   "cell_type": "code",
   "execution_count": null,
   "metadata": {
    "deletable": false,
    "editable": false,
    "nbgrader": {
     "cell_type": "code",
     "checksum": "f5e2e52f151c94f893773330bc4fddf7",
     "grade": true,
     "grade_id": "cell-125e0cd7bd93211e",
     "locked": true,
     "points": 2,
     "schema_version": 3,
     "solution": false
    }
   },
   "outputs": [],
   "source": [
    "# Mmmm, I love the `in` operator. Don't you?"
   ]
  },
  {
   "cell_type": "code",
   "execution_count": null,
   "metadata": {
    "deletable": false,
    "editable": false,
    "nbgrader": {
     "cell_type": "code",
     "checksum": "eebfee207176b6ee14cbce917a6c57c7",
     "grade": true,
     "grade_id": "cell-a0ea821ccc46b6ca",
     "locked": true,
     "points": 2,
     "schema_version": 3,
     "solution": false
    }
   },
   "outputs": [],
   "source": [
    "# That is it. The last test case."
   ]
  }
 ],
 "metadata": {
  "kernelspec": {
   "display_name": "Python 3 (ipykernel)",
   "language": "python",
   "name": "python3"
  },
  "language_info": {
   "codemirror_mode": {
    "name": "ipython",
    "version": 3
   },
   "file_extension": ".py",
   "mimetype": "text/x-python",
   "name": "python",
   "nbconvert_exporter": "python",
   "pygments_lexer": "ipython3",
   "version": "3.9.7"
  }
 },
 "nbformat": 4,
 "nbformat_minor": 1
}
