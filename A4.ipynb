{
 "cells": [
  {
   "cell_type": "markdown",
   "metadata": {},
   "source": [
    "# Assignment 4\n",
    "## Look Mom, I renamed it from Lab 4!\n",
    "### Maximum grade: 25 / 22\n",
    "\n",
    "The purpose of this assignment is to:\n",
    "* Get familiar with the Set Data type\n",
    "* Function Definition\n",
    "* Learn to write recursive functions\n",
    "\n",
    "\n",
    "You are supposed to download this notebook, embed your answers to the questions in the cells below, and submit it through JupyterHub. "
   ]
  },
  {
   "cell_type": "markdown",
   "metadata": {},
   "source": [
    "## Question 1a -  Increasing Numbers in List - First Occurence (3 points)\n",
    "\n",
    "Write a function `numIncreasing1(L)` that takes as input a list of numbers and returns a list of the __first__ sequence within that is increasing order, and has a length of at least 2.  If no increasing sequential numbers are found, (ie. the input list is in descending order) then naturally a list of just the first value is returned. \n",
    "\n",
    "Increasing sequence means for a number to be valid it has to be greater than the previous.\n",
    "\n",
    " + `[5, 2, 1, 3, 4]` returns `[1, 3, 4]`, because only the last 3 are in increasing order \n",
    " + `[-1, 1, 4, 2, 6]` returns `[-1, 1, 4]`\n",
    " + `[5, 1, 8, 9, 10, 100]` returns `[1, 8, 9, 10, 100]` \n",
    " + `[4, 1, 2, 3, 4, 2, 4, 6, 8]` returns `[1, 2, 3, 4]`\n",
    " \n",
    "Hint: _the `break` keyword may prove useful to exit a loop_"
   ]
  },
  {
   "cell_type": "code",
   "execution_count": 12,
   "metadata": {
    "deletable": false,
    "nbgrader": {
     "cell_type": "code",
     "checksum": "2832ced531242ad3afc80b496cbb983e",
     "grade": false,
     "grade_id": "cell-444a4ab27463ffd7",
     "locked": false,
     "schema_version": 3,
     "solution": true,
     "task": false
    }
   },
   "outputs": [
    {
     "name": "stdout",
     "output_type": "stream",
     "text": [
      "[1, 3, 4]\n"
     ]
    }
   ],
   "source": [
    "def numIncreasing1(L):\n",
    "    result=[]\n",
    "    for i in range(len(L)):\n",
    "        if i==len(L)-1:\n",
    "            result.append(L[i])\n",
    "        else:\n",
    "            if L[i]>=L[i+1]:\n",
    "                if result:\n",
    "                    result.append(L[i])\n",
    "                    break\n",
    "            else:\n",
    "                result.append(L[i])\n",
    "    return result   \n",
    "print(numIncreasing1([5,2,1,3,4]))"
   ]
  },
  {
   "cell_type": "code",
   "execution_count": 12,
   "metadata": {},
   "outputs": [
    {
     "name": "stdout",
     "output_type": "stream",
     "text": [
      "Are my sample test cases correct?\n",
      "Question #1a Test Case #1: You Passed!\n",
      "Question #1a Test Case #2: You Passed!\n",
      "Question #1a Test Case #3: You Passed!\n"
     ]
    }
   ],
   "source": [
    "print(\"Are my sample test cases correct?\")\n",
    "print(\"Question #1a Test Case #1:\", 'You Passed!' if numIncreasing1([5, 2, 1, 3, 4]) == [1,3,4] else 'You Failed!')\n",
    "print(\"Question #1a Test Case #2:\", 'You Passed!' if numIncreasing1([2, 1, 4, 5, 6]) == [1,4,5,6] else 'You Failed!')\n",
    "print(\"Question #1a Test Case #3:\", 'You Passed!' if numIncreasing1([1,2,3,4,4,3,4,5,6,7,7])  == [1,2,3,4] else 'You Failed!')"
   ]
  },
  {
   "cell_type": "code",
   "execution_count": null,
   "metadata": {
    "deletable": false,
    "editable": false,
    "nbgrader": {
     "cell_type": "code",
     "checksum": "e4daaef19c08e3eb6e1fe1ec2ec9f517",
     "grade": true,
     "grade_id": "cell-f3289e62bd137bda",
     "locked": true,
     "points": 2,
     "schema_version": 3,
     "solution": false,
     "task": false
    }
   },
   "outputs": [],
   "source": []
  },
  {
   "cell_type": "code",
   "execution_count": 13,
   "metadata": {
    "deletable": false,
    "editable": false,
    "nbgrader": {
     "cell_type": "code",
     "checksum": "280362a9d3659cd80e886fa4c69a85e0",
     "grade": true,
     "grade_id": "cell-65cdc4db9d70a421",
     "locked": true,
     "points": 1,
     "schema_version": 3,
     "solution": false,
     "task": false
    }
   },
   "outputs": [],
   "source": [
    "# Hey, I am a hidden test"
   ]
  },
  {
   "cell_type": "markdown",
   "metadata": {},
   "source": [
    "## Question 1b: Increasing Numbers in List - Longest Streak (3 points)\n",
    "\n",
    "Now write a function `numIncreasing2(L)` which applies similar constraints from Question 1a except returns the __longest__ running sequence of increasing numbers `L`. If two sequences are the same length, return the first sequence.\n"
   ]
  },
  {
   "cell_type": "code",
   "execution_count": 13,
   "metadata": {
    "deletable": false,
    "nbgrader": {
     "cell_type": "code",
     "checksum": "9b9ab7fb6b2bbefd598fa68f6d375dcd",
     "grade": false,
     "grade_id": "cell-7705867d2bca8d4f",
     "locked": false,
     "schema_version": 3,
     "solution": true
    }
   },
   "outputs": [],
   "source": [
    "def numIncreasing2(s):\n",
    "    l1=[s[0]]\n",
    "    l2=[]\n",
    "    for i in range(len(s)-1):\n",
    "        if s[i] < s[i+1]:\n",
    "            l2.append(s[i])\n",
    "            if i==len(s)-2 and (len(l2) + 1) > len(l1):\n",
    "                l2.append(s[i+1])\n",
    "                l1 = l2.copy()\n",
    "        elif (len(l2) + 1) > len(l1):\n",
    "            l2.append(s[i])\n",
    "            l1 = l2.copy()\n",
    "            l2=[]\n",
    "        else:\n",
    "            l2=[]\n",
    "    return l1"
   ]
  },
  {
   "cell_type": "code",
   "execution_count": 9,
   "metadata": {},
   "outputs": [
    {
     "name": "stdout",
     "output_type": "stream",
     "text": [
      "Are my sample test cases correct?\n",
      "Question #1b Test Case #1: You Passed!\n",
      "Question #1b Test Case #2: You Passed!\n",
      "Question #1b Test Case #3: You Passed!\n"
     ]
    }
   ],
   "source": [
    "print(\"Are my sample test cases correct?\")\n",
    "print(\"Question #1b Test Case #1:\", 'You Passed!' if numIncreasing2([5,4,3,2,1]) == [5] else 'You Failed!')\n",
    "print(\"Question #1b Test Case #2:\", 'You Passed!' if numIncreasing2([1,2,3,4,5]) == [1,2,3,4,5] else 'You Failed!')\n",
    "print(\"Question #1b Test Case #3:\", 'You Passed!' if numIncreasing2([1,2,3,4,4,3,4,5,6,7,7]) == [ 3, 4, 5, 6, 7] else 'You Failed!')"
   ]
  },
  {
   "cell_type": "code",
   "execution_count": null,
   "metadata": {
    "deletable": false,
    "editable": false,
    "nbgrader": {
     "cell_type": "code",
     "checksum": "0169ba5ee51f74cf1fb72a6c52d01d76",
     "grade": true,
     "grade_id": "cell-27eedc6832cd070c",
     "locked": true,
     "points": 2,
     "schema_version": 3,
     "solution": false,
     "task": false
    }
   },
   "outputs": [],
   "source": [
    "# Hey, I am a hidden test"
   ]
  },
  {
   "cell_type": "code",
   "execution_count": null,
   "metadata": {
    "deletable": false,
    "editable": false,
    "nbgrader": {
     "cell_type": "code",
     "checksum": "d17b4d1c50af5df113b8af99e442d032",
     "grade": true,
     "grade_id": "cell-9752c47972a6e13e",
     "locked": true,
     "points": 1,
     "schema_version": 3,
     "solution": false,
     "task": false
    }
   },
   "outputs": [],
   "source": [
    "# Hey, I am a hidden test"
   ]
  },
  {
   "cell_type": "markdown",
   "metadata": {},
   "source": [
    "## Question 1c: Increasing Numbers in List - Default Arguments (2 points)\n",
    "\n",
    "Now that you have defined the behavior for both `numIncreasing1` and `numIncreasing2`, create a \"wrapper function\" `numIncreasing` which takes a list `L` of numbers and a boolean `longest` which by default is equal to `False`: \n",
    "\n",
    "- `numIncreasing1` is executed if `longest` is False \n",
    "- `numIncreasing2` is executed if `longest` is True\n",
    "\n",
    "The value of the function should be propogated, which means that you should return the output of the `numIncreasing1` or `numIncreasing2` function as if it were the output of `numIncreasing`."
   ]
  },
  {
   "cell_type": "code",
   "execution_count": 16,
   "metadata": {
    "deletable": false,
    "nbgrader": {
     "cell_type": "code",
     "checksum": "d17fde2fb95246332fff36c72d8e708c",
     "grade": false,
     "grade_id": "cell-4f1662bda2bb64cb",
     "locked": false,
     "schema_version": 3,
     "solution": true
    }
   },
   "outputs": [],
   "source": [
    "def numIncreasing(L,longest=False):\n",
    "    if longest == False:\n",
    "        return numIncreasing1(L)\n",
    "    elif longest == True:\n",
    "        return numIncreasing2(L)"
   ]
  },
  {
   "cell_type": "code",
   "execution_count": 17,
   "metadata": {},
   "outputs": [
    {
     "name": "stdout",
     "output_type": "stream",
     "text": [
      "Are my sample test cases correct?\n",
      "Question #1b Test Case #1: You Passed!\n",
      "Question #1b Test Case #2: You Passed!\n",
      "Question #1b Test Case #3: You Passed!\n"
     ]
    }
   ],
   "source": [
    "print(\"Are my sample test cases correct?\")\n",
    "print(\"Question #1b Test Case #1:\", 'You Passed!' if numIncreasing([5,4,3,2,1], True) == [5] else 'You Failed!')\n",
    "print(\"Question #1b Test Case #2:\", 'You Passed!' if numIncreasing([1,2,3,4,5],False) == [1,2,3,4,5] else 'You Failed!')\n",
    "print(\"Question #1b Test Case #3:\", 'You Passed!' if numIncreasing([1,2,3,4,4,3,4,5,6,7,7],True) == [ 3, 4, 5, 6, 7] else 'You Failed!')"
   ]
  },
  {
   "cell_type": "code",
   "execution_count": null,
   "metadata": {
    "deletable": false,
    "editable": false,
    "nbgrader": {
     "cell_type": "code",
     "checksum": "fcccab2551c0516e2285578a5dd36359",
     "grade": true,
     "grade_id": "cell-860f3a5db5d3d6dd",
     "locked": true,
     "points": 1,
     "schema_version": 3,
     "solution": false,
     "task": false
    }
   },
   "outputs": [],
   "source": [
    "# Hey, I am a hidden test"
   ]
  },
  {
   "cell_type": "code",
   "execution_count": null,
   "metadata": {
    "deletable": false,
    "editable": false,
    "nbgrader": {
     "cell_type": "code",
     "checksum": "8c3808e45ce8369dba93317ee0060615",
     "grade": true,
     "grade_id": "cell-3a32de1026482acd",
     "locked": true,
     "points": 1,
     "schema_version": 3,
     "solution": false
    }
   },
   "outputs": [],
   "source": [
    "# Hey, I am a hidden test"
   ]
  },
  {
   "cell_type": "markdown",
   "metadata": {},
   "source": [
    "##  Question 2 : Playing with Sets (2 points)\n",
    "\n",
    "Write a function `uniqueSet(t)` which when given a string (with no punctuation) will return a __set__ containing the __unique__ words in the string. Capitalizations should be ignored. For example: $$Hello\\equiv hello$$"
   ]
  },
  {
   "cell_type": "code",
   "execution_count": 44,
   "metadata": {
    "deletable": false,
    "nbgrader": {
     "cell_type": "code",
     "checksum": "b1a2724d7d1f0ec14e9a530c2a545d8a",
     "grade": false,
     "grade_id": "cell-7fe8c0405b18f890",
     "locked": false,
     "schema_version": 3,
     "solution": true,
     "task": false
    }
   },
   "outputs": [
    {
     "name": "stdout",
     "output_type": "stream",
     "text": [
      "{'invented', 'have', 'to', 'born', 'internet', 'too', 'the', 'late'}\n"
     ]
    }
   ],
   "source": [
    "def uniqueSet(t):\n",
    "    a=set()\n",
    "    l=t.split()\n",
    "    for i in range(len(l)):\n",
    "        if l[i].lower() not in a:\n",
    "            a.add(l[i].lower())\n",
    "    return a \n",
    "\n",
    "print(uniqueSet('Born too late to have invented the internet'))\n"
   ]
  },
  {
   "cell_type": "code",
   "execution_count": 45,
   "metadata": {},
   "outputs": [
    {
     "name": "stdout",
     "output_type": "stream",
     "text": [
      "Are my sample test cases correct?\n",
      "Question #2 Test Case #1: You Passed!\n",
      "Question #2 Test Case #2: You Passed!\n",
      "Question #2 Test Case #3: You Passed!\n"
     ]
    }
   ],
   "source": [
    "print(\"Are my sample test cases correct?\")\n",
    "print(\"Question #2 Test Case #1:\", 'You Passed!' if len(uniqueSet(\"Born too late to have invented the internet\")) == 8 else 'You Failed!')\n",
    "test2 = uniqueSet(\"Born too early to have entered the\")\n",
    "test2.add(\"matrix\")\n",
    "print(\"Question #2 Test Case #2:\", 'You Passed!' if len(test2) == 8 else 'You Failed!')\n",
    "test3 = uniqueSet(\"Born right on time\")\n",
    "test3.update([\"to\", \"browse\", \"Dank\", \"Memes\"])\n",
    "print(\"Question #2 Test Case #3:\", 'You Passed!' if len(test3) == 8 else 'You Failed!')"
   ]
  },
  {
   "cell_type": "code",
   "execution_count": null,
   "metadata": {
    "deletable": false,
    "editable": false,
    "nbgrader": {
     "cell_type": "code",
     "checksum": "9a0d7e0186be1a74c5e86edf478eee97",
     "grade": true,
     "grade_id": "cell-0c9024dda3538da3",
     "locked": true,
     "points": 1,
     "schema_version": 3,
     "solution": false,
     "task": false
    }
   },
   "outputs": [],
   "source": [
    "# HIDDEN TEST"
   ]
  },
  {
   "cell_type": "code",
   "execution_count": null,
   "metadata": {
    "deletable": false,
    "editable": false,
    "nbgrader": {
     "cell_type": "code",
     "checksum": "fcbe53dd41313719c4550f255637f2df",
     "grade": true,
     "grade_id": "cell-0aa6c8c1f907d8f5",
     "locked": true,
     "points": 1,
     "schema_version": 3,
     "solution": false,
     "task": false
    }
   },
   "outputs": [],
   "source": [
    "# HIDDEN TEST"
   ]
  },
  {
   "cell_type": "markdown",
   "metadata": {},
   "source": [
    "##  Question 3: Partition the Values (3 points)\n",
    "\n",
    "Given two lists  of integers `listA` and `listB`, write a function `partitionLists` that takes two list arguments and one optional boolean parameter `largerFirst` which defaults to `False`. \n",
    "\n",
    "Your function should return a tuple containing two sorted lists, where the first list is the same length as list A, and the second is the length of list B.  All the elements in list A must be __less than or equal__ to those in list B, and the lists should be by default __ascending__ order.  \n",
    "\n",
    "If `largerFirst` is `True`, then the elements in list A must be __greater than or equal to__ those in list B, and the lists should be in __descending__ order."
   ]
  },
  {
   "cell_type": "code",
   "execution_count": 58,
   "metadata": {
    "deletable": false,
    "nbgrader": {
     "cell_type": "code",
     "checksum": "c95e593a00505db5d0d4f58194b9479a",
     "grade": false,
     "grade_id": "cell-150c7a63ffd4c1db",
     "locked": false,
     "schema_version": 3,
     "solution": true,
     "task": false
    }
   },
   "outputs": [
    {
     "name": "stdout",
     "output_type": "stream",
     "text": [
      "([2, 3, 3, 4], [5, 5, 5, 6, 7, 8, 10])\n"
     ]
    }
   ],
   "source": [
    "def partitionLists (l1,l2,largerFirst=False):\n",
    "    lA=[]\n",
    "    lB=[]\n",
    "    l=l1+l2\n",
    "    if largerFirst == False:\n",
    "        l.sort()\n",
    "        for i in range(len(l1)):\n",
    "            lA.append(l[i])\n",
    "        for j in range(len(l1),len(l)):\n",
    "            lB.append(l[j])\n",
    "            \n",
    "    elif largerFirst == True:\n",
    "        l.sort(reverse=True)\n",
    "        for i in range(len(l1)):\n",
    "            lA.append(l[i])\n",
    "        for j in range(len(l1),len(l)):\n",
    "            lB.append(l[j])\n",
    "    \n",
    "    return (lA,lB)\n",
    "\n",
    "print(partitionLists ([8,2,5,10],[4,5,6,3,7,5,3]))\n",
    "    \n"
   ]
  },
  {
   "cell_type": "code",
   "execution_count": 59,
   "metadata": {},
   "outputs": [
    {
     "name": "stdout",
     "output_type": "stream",
     "text": [
      "Are my sample test cases correct?\n",
      "Question #3 Test Case #1: You Passed!\n",
      "Question #3 Test Case #2: You Passed!\n",
      "Question #3 Test Case #3: You Passed!\n"
     ]
    }
   ],
   "source": [
    "print(\"Are my sample test cases correct?\")\n",
    "print(\"Question #3 Test Case #1:\", 'You Passed!' if partitionLists([8,2,5,10],[4,5,6,3,7,5,3]) ==([2, 3, 3, 4], [5, 5, 5, 6, 7, 8, 10]) else 'You Failed!')\n",
    "print(\"Question #3 Test Case #2:\", 'You Passed!' if partitionLists([1,4,56,723,5,7,34,1],[4,5,543,6,3,45,7,5,432,3,65]) ==([1, 1, 3, 3, 4, 4, 5, 5], [5, 6, 7, 7, 34, 45, 56, 65, 432, 543, 723]) else 'You Failed!')\n",
    "print(\"Question #3 Test Case #3:\", 'You Passed!' if partitionLists([1,4,56,723,5,7,34,1],[4,5,543,6,3,45,7,5,432,3,65], True) == ([723, 543, 432, 65, 56, 45, 34, 7], [7, 6, 5, 5, 5, 4, 4, 3, 3, 1, 1]) else 'You Failed!')"
   ]
  },
  {
   "cell_type": "code",
   "execution_count": null,
   "metadata": {
    "deletable": false,
    "editable": false,
    "nbgrader": {
     "cell_type": "code",
     "checksum": "111d4199d113e2ce585a151d4da5a3d8",
     "grade": true,
     "grade_id": "cell-4c236c2200b391d8",
     "locked": true,
     "points": 2,
     "schema_version": 3,
     "solution": false,
     "task": false
    }
   },
   "outputs": [],
   "source": [
    "# HIDDEN TEST CELL"
   ]
  },
  {
   "cell_type": "code",
   "execution_count": null,
   "metadata": {
    "deletable": false,
    "editable": false,
    "nbgrader": {
     "cell_type": "code",
     "checksum": "a9e05fe1997ce9d4750d4df7bf8c33c6",
     "grade": true,
     "grade_id": "cell-d1242aa57f1e409f",
     "locked": true,
     "points": 1,
     "schema_version": 3,
     "solution": false,
     "task": false
    }
   },
   "outputs": [],
   "source": [
    "# HIDDEN TEST CELL"
   ]
  },
  {
   "cell_type": "markdown",
   "metadata": {},
   "source": [
    "## Question 4: Recursive Combinations (3 points)\n",
    "\n",
    "Given a set of `n` items, we can choose `k` of them in $_nC_k$ ways. That is, if we have `n=3` items (for instance, an apple, an orange, and a pear) and we want to select `k=2` of them, there are $_3C_2 = 3$  ways to do this (an apple and an orange, an orange and a pear, or an apple and a pear).\n",
    "\n",
    "We can compute $_nC_k$ recursively:\n",
    "\n",
    "$$ _nC_k = \\begin{cases} 1, & \\mbox{if } k = 0, \\\\ 0, & \\mbox{if } n < k, \\\\ _{n-1}C_{k-1} + _{n-1}C_{k}, & \\mbox{otherwise}. \\end{cases} $$\n",
    "\n",
    "Write a function choose(n,k) that recursively computes the number of ways you can choose `k` out of `n` items."
   ]
  },
  {
   "cell_type": "code",
   "execution_count": 64,
   "metadata": {
    "deletable": false,
    "nbgrader": {
     "cell_type": "code",
     "checksum": "e3a193948172b89fa1e4aee752701149",
     "grade": false,
     "grade_id": "cell-97ff437c45c12ddc",
     "locked": false,
     "schema_version": 3,
     "solution": true,
     "task": false
    }
   },
   "outputs": [
    {
     "name": "stdout",
     "output_type": "stream",
     "text": [
      "3.0\n"
     ]
    }
   ],
   "source": [
    "def choose(n,k):\n",
    "    factn=1\n",
    "    factk=1\n",
    "    factnminusk=1\n",
    "    for i in range (1,n+1):\n",
    "        factn= i * factn\n",
    "    for j in range (1,k+1):\n",
    "        factk= j * factk\n",
    "    for k in range (1,(n-k)+1):\n",
    "        factnminusk= k * factnminusk\n",
    "    return factn/(factk*factnminusk)\n",
    "\n",
    "print(choose(3,2))\n"
   ]
  },
  {
   "cell_type": "code",
   "execution_count": 65,
   "metadata": {},
   "outputs": [
    {
     "name": "stdout",
     "output_type": "stream",
     "text": [
      "Question #4 Test Case #1: You Passed!\n",
      "Question #4 Test Case #2: You Passed!\n",
      "Question #4 Test Case #3: You Passed!\n"
     ]
    }
   ],
   "source": [
    "print(\"Question #4 Test Case #1:\", 'You Passed!' if choose(3, 2) == 3 else 'You Failed!')\n",
    "print(\"Question #4 Test Case #2:\", 'You Passed!' if choose(5, 3) == 10 else 'You Failed!')\n",
    "print(\"Question #4 Test Case #3:\", 'You Passed!' if choose(20, 10) == 184756 else 'You Failed!')"
   ]
  },
  {
   "cell_type": "code",
   "execution_count": null,
   "metadata": {
    "deletable": false,
    "editable": false,
    "nbgrader": {
     "cell_type": "code",
     "checksum": "e89550a8dbf2047f23957bcf13af8026",
     "grade": true,
     "grade_id": "cell-e166d922f83ef13c",
     "locked": true,
     "points": 1,
     "schema_version": 3,
     "solution": false,
     "task": false
    }
   },
   "outputs": [],
   "source": [
    "# HIDDEN TEST"
   ]
  },
  {
   "cell_type": "code",
   "execution_count": null,
   "metadata": {
    "deletable": false,
    "editable": false,
    "nbgrader": {
     "cell_type": "code",
     "checksum": "09803f6e042d30925c9069a5c8278f67",
     "grade": true,
     "grade_id": "cell-967520d88f1ddee1",
     "locked": true,
     "points": 2,
     "schema_version": 3,
     "solution": false,
     "task": false
    }
   },
   "outputs": [],
   "source": [
    "# HIDDEN TEST"
   ]
  },
  {
   "cell_type": "markdown",
   "metadata": {},
   "source": [
    "## Question 5a: Verifying Palindromes Recursively (3 points)\n",
    "\n",
    "A word is a palindrome if it reads the same forwards as it does backwards. For instance, `racecar` and `kayak` are both palindromes, whereas `computer` is not.\n",
    "\n",
    "Write a function that determines whether or not a given string is a palindrome. For this question, you must write your own function and test cases. Your function should be called `is_palindrome` and accept a single string as input, and return the boolean value `True` or `False` as output. Your function does not need to check anything with the input, you can assume that this function will only be passed entirely lowercase strings.\n",
    "\n",
    "Use the following recursive algorithm to check if a string is a palindrome: If the string is 0 or 1 items long, it is definitely a palindrome (by definition). If the string is 2 or more characters long, remove the first and last characters, check if they are equal. If they aren't, the string is not a palindrome, otherwise, check if the remainder of the string is a palindrome."
   ]
  },
  {
   "cell_type": "code",
   "execution_count": 79,
   "metadata": {
    "deletable": false,
    "nbgrader": {
     "cell_type": "code",
     "checksum": "9f3ecd9f26565cc05b2ef6b1ba13f69e",
     "grade": false,
     "grade_id": "cell-7fbe4917a4099385",
     "locked": false,
     "schema_version": 3,
     "solution": true,
     "task": false
    }
   },
   "outputs": [
    {
     "name": "stdout",
     "output_type": "stream",
     "text": [
      "False\n"
     ]
    }
   ],
   "source": [
    "# Write your answer in this cell\n",
    "def is_palindrome(word):\n",
    "    if len(word) < 2: \n",
    "        return True\n",
    "    elif word[0] != word[-1]: \n",
    "        return False\n",
    "    else:\n",
    "        return is_palindrome(word[1:-1])\n",
    "print(is_palindrome('featherbed'))    \n"
   ]
  },
  {
   "cell_type": "code",
   "execution_count": 69,
   "metadata": {},
   "outputs": [
    {
     "name": "stdout",
     "output_type": "stream",
     "text": [
      "Question #5a Test Case #1: You Passed!\n",
      "Question #5a Test Case #2: You Passed!\n",
      "Question #5a Test Case #3: You Passed!\n"
     ]
    }
   ],
   "source": [
    "print(\"Question #5a Test Case #1:\", 'You Passed!' if not is_palindrome(\"featherbed\") else 'You Failed!')\n",
    "print(\"Question #5a Test Case #2:\", 'You Passed!' if is_palindrome(\"boltonotlob\") else 'You Failed!')\n",
    "print(\"Question #5a Test Case #3:\", 'You Passed!' if is_palindrome(\"racecar\") else 'You Failed!')"
   ]
  },
  {
   "cell_type": "code",
   "execution_count": null,
   "metadata": {
    "deletable": false,
    "editable": false,
    "nbgrader": {
     "cell_type": "code",
     "checksum": "530eb9abe972bfac285a904fa1a449bb",
     "grade": true,
     "grade_id": "cell-a5becab389cd268f",
     "locked": true,
     "points": 2,
     "schema_version": 3,
     "solution": false,
     "task": false
    }
   },
   "outputs": [],
   "source": [
    "# HIDDEN TEST"
   ]
  },
  {
   "cell_type": "code",
   "execution_count": null,
   "metadata": {
    "deletable": false,
    "editable": false,
    "nbgrader": {
     "cell_type": "code",
     "checksum": "b8d16dea457cf751ed7e81a1d55ff0f6",
     "grade": true,
     "grade_id": "cell-a8b37e88effcb7df",
     "locked": true,
     "points": 1,
     "schema_version": 3,
     "solution": false,
     "task": false
    }
   },
   "outputs": [],
   "source": [
    "# HIDDEN TEST"
   ]
  },
  {
   "cell_type": "markdown",
   "metadata": {},
   "source": [
    "## Question 5b: Improving our Palindrome Function (1 point)\n",
    "\n",
    "Let's improve the palindrome function so that it works with a sentence that has punctuation in it.\n",
    "First, write a function **only_letters(s)** that removes all punctuation (including spaces) from a given string and converts it to lowercase.\n",
    "\n",
    "For this question you may assume the string contains only letters, punctuation, numerical characters, and spaces. You may choose whether or not to use a recursive approach for this question.\n"
   ]
  },
  {
   "cell_type": "code",
   "execution_count": 80,
   "metadata": {
    "deletable": false,
    "nbgrader": {
     "cell_type": "code",
     "checksum": "f442b664b1103199a290d0c47c087bda",
     "grade": false,
     "grade_id": "cell-a1b9f5ebbcf0d70d",
     "locked": false,
     "schema_version": 3,
     "solution": true,
     "task": false
    }
   },
   "outputs": [
    {
     "name": "stdout",
     "output_type": "stream",
     "text": [
      "a\n"
     ]
    }
   ],
   "source": [
    "# Write your answer in this cell\n",
    "from string import punctuation\n",
    "def only_letters(s):\n",
    "    new_s=''\n",
    "    for i in s:\n",
    "        if i.isalpha():\n",
    "            new_s = new_s + i.lower()\n",
    "    return new_s\n",
    "\n",
    "print(only_letters(\",.12 34A\"))\n"
   ]
  },
  {
   "cell_type": "code",
   "execution_count": 77,
   "metadata": {},
   "outputs": [
    {
     "name": "stdout",
     "output_type": "stream",
     "text": [
      "Question #5b Test Case: You Passed!\n"
     ]
    }
   ],
   "source": [
    "print(\"Question #5b Test Case:\", 'You Passed!' if only_letters(\",.12 34A\") == \"a\" else 'You Failed!')"
   ]
  },
  {
   "cell_type": "code",
   "execution_count": null,
   "metadata": {
    "deletable": false,
    "editable": false,
    "nbgrader": {
     "cell_type": "code",
     "checksum": "c7b6969249373aecca1f8ab524339c8e",
     "grade": true,
     "grade_id": "cell-a1caa4022bc7d9ca",
     "locked": true,
     "points": 1,
     "schema_version": 3,
     "solution": false,
     "task": false
    }
   },
   "outputs": [],
   "source": [
    "# HIDDEN TEST"
   ]
  },
  {
   "cell_type": "markdown",
   "metadata": {},
   "source": [
    "## Question 5c: Combining the Two (2 points)\n",
    "\n",
    "Now, using the only_letters function, write a function **is_palindrome_plus(s)** that determines if a string is a palindrome or not, ignoring punctuation or letter case."
   ]
  },
  {
   "cell_type": "code",
   "execution_count": 81,
   "metadata": {
    "deletable": false,
    "nbgrader": {
     "cell_type": "code",
     "checksum": "539a1903484ff9b5a4a6ddc23baaf571",
     "grade": false,
     "grade_id": "cell-f65d34128c43a028",
     "locked": false,
     "schema_version": 3,
     "solution": true,
     "task": false
    }
   },
   "outputs": [
    {
     "name": "stdout",
     "output_type": "stream",
     "text": [
      "True\n"
     ]
    }
   ],
   "source": [
    "# Write your answer in this cell\n",
    "def is_palindrome_plus(s): \n",
    "    letters = only_letters(s)\n",
    "    answer = is_palindrome(letters)\n",
    "    return answer\n",
    "\n",
    "print(is_palindrome_plus(\"Do geese see God?\"))"
   ]
  },
  {
   "cell_type": "code",
   "execution_count": 82,
   "metadata": {},
   "outputs": [
    {
     "name": "stdout",
     "output_type": "stream",
     "text": [
      "Question #5c Test Case #1: You Passed!\n",
      "Question #5c Test Case #2: You Passed!\n"
     ]
    }
   ],
   "source": [
    "print(\"Question #5c Test Case #1:\", 'You Passed!' if is_palindrome_plus(\"Do geese see God?\") else 'You Failed!')\n",
    "print(\"Question #5c Test Case #2:\", 'You Passed!' if is_palindrome(only_letters('go hang a salami, i\\'m a lasagna hog!')) else 'You Failed!')"
   ]
  },
  {
   "cell_type": "code",
   "execution_count": null,
   "metadata": {
    "deletable": false,
    "editable": false,
    "nbgrader": {
     "cell_type": "code",
     "checksum": "848310bd06ab9c73d4caa8508abedb8f",
     "grade": true,
     "grade_id": "cell-587883d1c909c10b",
     "locked": true,
     "points": 1,
     "schema_version": 3,
     "solution": false,
     "task": false
    }
   },
   "outputs": [],
   "source": [
    "# HIDDEN TEST"
   ]
  },
  {
   "cell_type": "code",
   "execution_count": null,
   "metadata": {
    "deletable": false,
    "editable": false,
    "nbgrader": {
     "cell_type": "code",
     "checksum": "c8c1c67f0af9b117627783af9b29a78c",
     "grade": true,
     "grade_id": "cell-f3ee0ab48ffadaf8",
     "locked": true,
     "points": 1,
     "schema_version": 3,
     "solution": false,
     "task": false
    }
   },
   "outputs": [],
   "source": [
    "# HIDDEN TEST"
   ]
  },
  {
   "cell_type": "markdown",
   "metadata": {},
   "source": [
    "##  Bonus: Recursive Encryption (3 points)\n",
    "\n",
    "Privacy has been a major talking point amongst many tech giants as of the past 2 years. Let's be creative and find a way to encrypt our messages to send to one another!\n",
    "\n",
    "Define a function `encrypt` which takes 3 arguments:\n",
    "* `msg` -  a non-empty string message\n",
    "* `shift` - a non-negative integer\n",
    "* `func` - a lambda function that takes one integer argument and returns an integer. For the math lovers (which means all of you) the type definition looks like this: $$Int \\rightarrow Int$$\n",
    "\n",
    "The secret sauce to this encryption method is that it will shift every character by some integer amount `shift`. For example 'h' shifted 5 characters is 'm'. When `shift` is positive value, the shifted char will move in the (right) direction based on nominal value. (Consult Ascii chart for more info: http://www.asciitable.com/). \n",
    "\n",
    "Therefore, we will go through every character `c` in the string and modify each by increasing the ordinal/nominal value by `shift` creating a new character `c'` (pronounced c-prime or /sē/yah/prīm/).\n",
    "\n",
    "Here's the catch, the shift for the **next** character will always change, as dictated by the lambda function `func`. The lambda function should receive as argument the **ordinal value of c' (`ord(c')`)** from that recursive call and return you a new `shift` integer value... (Oh yea, do this recursively; you'll thank me later.) But in the iterative sense, `func` supplies you with the **next** `shift` value for the **next proceeding** character.\n",
    "\n",
    "HINT: With a recursive solution, this can be as little as 2 lines of concise code; first defining a base case (string of length 1), and then computing the solution in terms of its own smaller subproblems (the remainder of string).\n",
    "\n",
    "WINK: Use `ord` and `chr` built ins. "
   ]
  },
  {
   "cell_type": "code",
   "execution_count": 92,
   "metadata": {
    "deletable": false,
    "nbgrader": {
     "cell_type": "code",
     "checksum": "5e3bc44ff8dbe3cad49f7686cab255ee",
     "grade": false,
     "grade_id": "cell-f250828c3b7fcde5",
     "locked": false,
     "schema_version": 3,
     "solution": true,
     "task": false
    }
   },
   "outputs": [
    {
     "name": "stdout",
     "output_type": "stream",
     "text": [
      "iktsu\n"
     ]
    }
   ],
   "source": [
    "def encrypt(msg, shift, func):\n",
    "    if len(msg)==1:\n",
    "        return chr(ord(msg)+shift)\n",
    "    else:\n",
    "        newmsg = ''\n",
    "        y=shift\n",
    "        for i in msg:\n",
    "            cprime = chr(ord(i)+y)\n",
    "            newmsg += cprime\n",
    "            y = func(ord(cprime))\n",
    "        return newmsg\n",
    "            \n",
    "print(encrypt(\"hello\",1, lambda x: (x + 1) % 10 ))\n"
   ]
  },
  {
   "cell_type": "code",
   "execution_count": 90,
   "metadata": {},
   "outputs": [
    {
     "name": "stdout",
     "output_type": "stream",
     "text": [
      "Are my sample test cases correct?\n",
      "Bonus Test Case #1: You Passed!\n",
      "Bonus Test Case #2: You Passed!\n",
      "Bonus Test Case #3: You Passed!\n"
     ]
    }
   ],
   "source": [
    "print(\"Are my sample test cases correct?\")\n",
    "print(\"Bonus Test Case #1:\", 'You Passed!' if encrypt(\"hello\",1, lambda x: (x + 1) % 10 ) == \"iktsu\" else 'You Failed!')\n",
    "print(\"Bonus Test Case #2:\", 'You Passed!' if encrypt(\"covfefe\",13, lambda x: x % 13 if x % 2 == 0 else x % 3) == \"pwxiehe\" else 'You Failed!')\n",
    "print(\"Bonus Test Case #3:\", 'You Passed!' if encrypt(\"precious\",12, lambda x: x + 1) == \"|ïŕƹȣʓ̉ͽ\" else 'You Failed!')"
   ]
  },
  {
   "cell_type": "code",
   "execution_count": null,
   "metadata": {
    "deletable": false,
    "editable": false,
    "nbgrader": {
     "cell_type": "code",
     "checksum": "a86f3f51c7cfcd4f4f5ec10fbddb9c98",
     "grade": true,
     "grade_id": "cell-f5569831a2b5ae4f",
     "locked": true,
     "points": 1,
     "schema_version": 3,
     "solution": false,
     "task": false
    }
   },
   "outputs": [],
   "source": [
    "# HIDDEN TEST"
   ]
  },
  {
   "cell_type": "code",
   "execution_count": null,
   "metadata": {
    "deletable": false,
    "editable": false,
    "nbgrader": {
     "cell_type": "code",
     "checksum": "9adb72f0cbb699278322346842e2e793",
     "grade": true,
     "grade_id": "cell-057993f6a5772739",
     "locked": true,
     "points": 1,
     "schema_version": 3,
     "solution": false,
     "task": false
    }
   },
   "outputs": [],
   "source": [
    "# HIDDEN TEST"
   ]
  },
  {
   "cell_type": "code",
   "execution_count": null,
   "metadata": {
    "deletable": false,
    "editable": false,
    "nbgrader": {
     "cell_type": "code",
     "checksum": "b05535e4c16b8526b1455fdc1423740d",
     "grade": true,
     "grade_id": "cell-f058097f9b6a8fb8",
     "locked": true,
     "points": 1,
     "schema_version": 3,
     "solution": false,
     "task": false
    }
   },
   "outputs": [],
   "source": [
    "# HIDDEN TEST"
   ]
  }
 ],
 "metadata": {
  "kernelspec": {
   "display_name": "Python 3 (ipykernel)",
   "language": "python",
   "name": "python3"
  },
  "language_info": {
   "codemirror_mode": {
    "name": "ipython",
    "version": 3
   },
   "file_extension": ".py",
   "mimetype": "text/x-python",
   "name": "python",
   "nbconvert_exporter": "python",
   "pygments_lexer": "ipython3",
   "version": "3.9.7"
  }
 },
 "nbformat": 4,
 "nbformat_minor": 1
}
