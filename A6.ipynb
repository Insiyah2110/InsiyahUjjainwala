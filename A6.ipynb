{
 "cells": [
  {
   "cell_type": "markdown",
   "metadata": {
    "deletable": false,
    "editable": false,
    "nbgrader": {
     "cell_type": "markdown",
     "checksum": "a3d9f515a29ad2288bc18ad31ccbbbd9",
     "grade": false,
     "grade_id": "cell-8270991a73638fc0",
     "locked": true,
     "schema_version": 3,
     "solution": false
    }
   },
   "source": [
    "# Assignment 6\n",
    "## Aliens! Ah!\n",
    "### Maximum grade: 20 / 16\n",
    "\n",
    "The purpose of this lab is to:\n",
    "- Practice implementing numerical methods\n",
    "- Save us from any future embarassment with aliens\n",
    "- Teach students not to rely on built in functions"
   ]
  },
  {
   "cell_type": "code",
   "execution_count": 9,
   "metadata": {
    "deletable": false,
    "editable": false,
    "nbgrader": {
     "cell_type": "code",
     "checksum": "2298de1e2873e4639644ff4119ced48d",
     "grade": false,
     "grade_id": "cell-d14c3fdf07723b26",
     "locked": true,
     "schema_version": 3,
     "solution": false,
     "task": false
    }
   },
   "outputs": [],
   "source": [
    "def tester(a, b):\n",
    "    \"\"\"\n",
    "    I am the function that tells you if you pass or fail tests.\n",
    "    Run me, please.\n",
    "    \"\"\"\n",
    "    return \"You Passed!\" if a == b else \"You Failed!\""
   ]
  },
  {
   "cell_type": "markdown",
   "metadata": {
    "deletable": false,
    "editable": false,
    "nbgrader": {
     "cell_type": "markdown",
     "checksum": "3d67d7c542e4931c8df484efa55afc69",
     "grade": false,
     "grade_id": "cell-71a0b5befc6ac718",
     "locked": true,
     "schema_version": 3,
     "solution": false
    }
   },
   "source": [
    "# Question 1: Binary and Decimal Conversions (4 points)\n",
    "\n",
    "Write two functions, `dec2bin(x)` and `bin2dec(x)` that convert a positive integer from decimal to binary or binary to decimal respectively.  For `dec2bin`, the input `x` is an int, and the output should be a string.  For `bin2dec`, the input `x` is a string, and the output should be an int. \n",
    "\n",
    "The iterative approach is easiest.  If you are feeling adventurous, you could try to come up with a recursive solution.\n",
    "\n",
    "__Prohibited Functions__: You may not use `bin()`, `int()`, `.format()`, or other built-in conversion functions. Write it out by hand or lose the marks."
   ]
  },
  {
   "cell_type": "code",
   "execution_count": 6,
   "metadata": {
    "deletable": false,
    "nbgrader": {
     "cell_type": "code",
     "checksum": "fcddec3a68f6b3e88f5713c4f20512d4",
     "grade": false,
     "grade_id": "cell-9b4bf2416a059320",
     "locked": false,
     "schema_version": 3,
     "solution": true
    }
   },
   "outputs": [],
   "source": [
    "def dec2bin(x):\n",
    "    convert = { 1 : '1' , 0 : '0' }\n",
    "    dec = x\n",
    "    num = ''\n",
    "    if x == 0:\n",
    "        return '0'\n",
    "    while dec > 0:\n",
    "        rem = dec % 2\n",
    "        num += convert[rem]\n",
    "        dec = dec // 2\n",
    "        \n",
    "    return num[::-1]\n",
    "        \n",
    "    \n",
    "\n",
    "def bin2dec(x):\n",
    "    convert = { '1' : 1 , '0' : 0 }\n",
    "    num = 0\n",
    "    j = len (x) - 1\n",
    "    for i in range(len(x)):\n",
    "        k = convert[x[i]] * (2**j)\n",
    "        num = num + k\n",
    "        j = j - 1\n",
    "        \n",
    "    return num\n",
    "\n",
    "\n",
    "    \n",
    "    \n"
   ]
  },
  {
   "cell_type": "code",
   "execution_count": 7,
   "metadata": {
    "deletable": false,
    "editable": false,
    "nbgrader": {
     "cell_type": "code",
     "checksum": "5d9474c6e5780b88d69a0f23cdbfc43d",
     "grade": false,
     "grade_id": "cell-5febb9133114de62",
     "locked": true,
     "schema_version": 3,
     "solution": false,
     "task": false
    }
   },
   "outputs": [
    {
     "name": "stdout",
     "output_type": "stream",
     "text": [
      "Question #1a Test Case #1: You Passed!\n",
      "Question #1a Test Case #2: You Passed!\n",
      "Question #1a Test Case #3: You Passed!\n",
      "Question #1a Test Case #4: You Passed!\n",
      "Question #1a Test Case #5: You Passed!\n",
      "Question #1a Test Case #6: You Passed!\n"
     ]
    }
   ],
   "source": [
    "print(\"Question #1a Test Case #1:\", tester(dec2bin(0), '0'))\n",
    "print(\"Question #1a Test Case #2:\", tester(dec2bin(15), '1111'))\n",
    "print(\"Question #1a Test Case #3:\", tester(dec2bin(999999999), '111011100110101100100111111111'))\n",
    "print(\"Question #1a Test Case #4:\", tester(bin2dec(''), 0))\n",
    "print(\"Question #1a Test Case #5:\", tester(bin2dec('10010101'), 149))\n",
    "print(\"Question #1a Test Case #6:\", tester(bin2dec('0101010101100011011010011101011001010010110101'), 23471366444213))"
   ]
  },
  {
   "cell_type": "code",
   "execution_count": null,
   "metadata": {
    "deletable": false,
    "editable": false,
    "nbgrader": {
     "cell_type": "code",
     "checksum": "465b7d8636b7a9b0cd7a2460d800838e",
     "grade": true,
     "grade_id": "cell-0854803adf6f43e4",
     "locked": true,
     "points": 1,
     "schema_version": 3,
     "solution": false
    }
   },
   "outputs": [],
   "source": [
    "# Hidden test cell"
   ]
  },
  {
   "cell_type": "code",
   "execution_count": null,
   "metadata": {
    "deletable": false,
    "editable": false,
    "nbgrader": {
     "cell_type": "code",
     "checksum": "d5a46403739285ff0911e707274cc9b4",
     "grade": true,
     "grade_id": "cell-484f7f2393fb1955",
     "locked": true,
     "points": 1,
     "schema_version": 3,
     "solution": false
    }
   },
   "outputs": [],
   "source": [
    "# Hidden test cell"
   ]
  },
  {
   "cell_type": "code",
   "execution_count": null,
   "metadata": {
    "deletable": false,
    "editable": false,
    "nbgrader": {
     "cell_type": "code",
     "checksum": "e924248168670af41be109bc49004a29",
     "grade": true,
     "grade_id": "cell-b01b933cc628100e",
     "locked": true,
     "points": 1,
     "schema_version": 3,
     "solution": false
    }
   },
   "outputs": [],
   "source": [
    "# Hidden test cell"
   ]
  },
  {
   "cell_type": "code",
   "execution_count": null,
   "metadata": {
    "deletable": false,
    "editable": false,
    "nbgrader": {
     "cell_type": "code",
     "checksum": "2fff145267b06a7e00534da860dd6e74",
     "grade": true,
     "grade_id": "cell-5ba5e7afa44a12c3",
     "locked": true,
     "points": 1,
     "schema_version": 3,
     "solution": false
    }
   },
   "outputs": [],
   "source": [
    "# Hidden test cell"
   ]
  },
  {
   "cell_type": "markdown",
   "metadata": {
    "deletable": false,
    "editable": false,
    "nbgrader": {
     "cell_type": "markdown",
     "checksum": "a495ffb09798bb6fface2f1379f0dd13",
     "grade": false,
     "grade_id": "cell-242c7365c30a27b9",
     "locked": true,
     "schema_version": 3,
     "solution": false
    }
   },
   "source": [
    "# Question 1b: Decimal/Hexadecimal Conversions (4 points)\n",
    "\n",
    "Write two functions: one that converts from hexadecimal (base 16) to decimal, `hex2dec`, and one that converts from decimal to hexadecimal, `dec2hex`. Output your hexadecimal values as a string; for instance, `31` in decimal would be the string \"1F\" in hexadecimal. However, we aren't done... I want you to put the letter \"H\" infront of your answer so I can see that it is a Hexidecimal Value! \n",
    "Your output is case sensitive.\n",
    "\n",
    "__Prohibited Functions__: You may not use `hex()`, `int()`, `.format()`, or other built-in conversion functions."
   ]
  },
  {
   "cell_type": "code",
   "execution_count": 24,
   "metadata": {
    "deletable": false,
    "nbgrader": {
     "cell_type": "code",
     "checksum": "7e4fe9189a0e3b82f9f23f3a7abe4d45",
     "grade": false,
     "grade_id": "cell-ffec72cc583c9c6c",
     "locked": false,
     "schema_version": 3,
     "solution": true
    }
   },
   "outputs": [],
   "source": [
    "def hex2dec(n):\n",
    "    convert = { '0' : 0 , '1' : 1 , '2' : 2 , '3' : 3 , '4' : 4 , '5' : 5 , '6' : 6 ,\n",
    "             '7' : 7 , '8' : 8 , '9' : 9 , 'A' : 10 , 'B' : 11 , 'C' : 12 , 'D' : 13 , 'E' : 14 , 'F' : 15 }\n",
    "    num = 0\n",
    "    j = len (n) - 1\n",
    "    for i in n:\n",
    "        k = convert[i] * (16**j)\n",
    "        num += k\n",
    "        j -= 1\n",
    "        \n",
    "    return num\n",
    "\n",
    "def dec2hex(n):\n",
    "    convert = { 0 : '0' , 1 : '1' , 2 : '2' , 3 : '3' , 4 : '4' , 5 : '5' , 6 : '6' ,\n",
    "             7 : '7' , 8 : '8' , 9 : '9' , 10 : 'A' , 11 : 'B' , 12 : 'C' , 13 : 'D' , 14 : 'E' , 15 : 'F' }\n",
    "    dec = n\n",
    "    num = ''\n",
    "    if n == 0:\n",
    "        return '0'\n",
    "    while dec > 0:\n",
    "        rem = dec % 16\n",
    "        num += convert[rem]\n",
    "        dec = dec // 16\n",
    "        \n",
    "    return 'H'+num[::-1]\n"
   ]
  },
  {
   "cell_type": "code",
   "execution_count": 25,
   "metadata": {},
   "outputs": [
    {
     "name": "stdout",
     "output_type": "stream",
     "text": [
      "Question #1b Test Case #1: You Passed!\n",
      "Question #1b Test Case #2: You Passed!\n",
      "Question #1b Test Case #3: You Passed!\n",
      "Question #1b Test Case #4: You Passed!\n"
     ]
    }
   ],
   "source": [
    "WASTE_OF_WATER = \"HDECAF\"\n",
    "DIVINE_NUMBER = 12648430\n",
    "print(\"Question #1b Test Case #1:\", tester(dec2hex(31), \"H1F\"))\n",
    "print(\"Question #1b Test Case #2:\", tester(dec2hex(912559), WASTE_OF_WATER))\n",
    "print(\"Question #1b Test Case #3:\", tester(hex2dec('2A'), 42))\n",
    "print(\"Question #1b Test Case #4:\", tester(hex2dec('C0FFEE'), DIVINE_NUMBER))"
   ]
  },
  {
   "cell_type": "code",
   "execution_count": null,
   "metadata": {
    "deletable": false,
    "editable": false,
    "nbgrader": {
     "cell_type": "code",
     "checksum": "cabef06480ef0db18971f3f77bf96d25",
     "grade": true,
     "grade_id": "cell-31c9848c88d2fc07",
     "locked": true,
     "points": 1,
     "schema_version": 3,
     "solution": false
    }
   },
   "outputs": [],
   "source": [
    "# Hidden test cell"
   ]
  },
  {
   "cell_type": "code",
   "execution_count": null,
   "metadata": {
    "deletable": false,
    "editable": false,
    "nbgrader": {
     "cell_type": "code",
     "checksum": "3ef6ca5300c2cb337f4153ed8a303fdf",
     "grade": true,
     "grade_id": "cell-048a535063da5366",
     "locked": true,
     "points": 1,
     "schema_version": 3,
     "solution": false
    }
   },
   "outputs": [],
   "source": [
    "# Hidden test cell"
   ]
  },
  {
   "cell_type": "code",
   "execution_count": null,
   "metadata": {
    "deletable": false,
    "editable": false,
    "nbgrader": {
     "cell_type": "code",
     "checksum": "0a31d6c1c737ef431da58f8133c2a16f",
     "grade": true,
     "grade_id": "cell-9eb0a498ba76d567",
     "locked": true,
     "points": 1,
     "schema_version": 3,
     "solution": false
    }
   },
   "outputs": [],
   "source": [
    "# Hidden test cell"
   ]
  },
  {
   "cell_type": "code",
   "execution_count": null,
   "metadata": {
    "deletable": false,
    "editable": false,
    "nbgrader": {
     "cell_type": "code",
     "checksum": "dd44839be6171c1e9466788092dbf6a6",
     "grade": true,
     "grade_id": "cell-74672c8fd795b3ce",
     "locked": true,
     "points": 1,
     "schema_version": 3,
     "solution": false
    }
   },
   "outputs": [],
   "source": [
    "# Hidden test cell"
   ]
  },
  {
   "cell_type": "markdown",
   "metadata": {},
   "source": [
    "# Question 1c: Decimal/Octal Conversions (4 points)\n",
    "\n",
    "Write two functions: one that converts from octal (base 8) to decimal, `oct2dec`, and one that converts from decimal to octal, `dec2oct`. Output your octal values as a string; for instance, `25` in decimal would be the string \"31\" in octal. Same rules as Hexidemical, we need you to put the letter \"O\" infront of your Octal values.\n",
    "Your output is case sensitive.\n",
    "\n",
    "__Prohibited Functions__: You may not use `oct()`, `int()`, `.format()`, or other built-in conversion functions."
   ]
  },
  {
   "cell_type": "code",
   "execution_count": 46,
   "metadata": {
    "deletable": false,
    "nbgrader": {
     "cell_type": "code",
     "checksum": "9d3d358a196340983076c78bce05f320",
     "grade": false,
     "grade_id": "cell-671699a8cefdcd55",
     "locked": false,
     "schema_version": 3,
     "solution": true
    }
   },
   "outputs": [],
   "source": [
    "# your code here\n",
    "def oct2dec(n):\n",
    "    k = n\n",
    "    num = 0\n",
    "    len = 1\n",
    "    while k//10 > 0:\n",
    "        len+=1\n",
    "        k//=10\n",
    "        \n",
    "    x = n\n",
    "    for i in range(len):\n",
    "        j = (x % 10) * ( 8 ** i )\n",
    "        x//=10\n",
    "        num += j\n",
    "        \n",
    "    return num\n",
    "\n",
    "def dec2oct(n):\n",
    "    convert = { 0 : '0' , 1 : '1' , 2 : '2' , 3 : '3' , 4 : '4' , 5 : '5' , 6 : '6' ,\n",
    "             7 : '7' }\n",
    "    dec = n\n",
    "    num = ''\n",
    "    if n == 0:\n",
    "        return '0'\n",
    "    while dec > 0:\n",
    "        rem = dec % 8\n",
    "        num += convert[rem]\n",
    "        dec = dec // 8\n",
    "        \n",
    "    return 'O'+num[::-1]\n",
    "\n"
   ]
  },
  {
   "cell_type": "code",
   "execution_count": 47,
   "metadata": {},
   "outputs": [
    {
     "name": "stdout",
     "output_type": "stream",
     "text": [
      "Question #1c Test Case #1: You Passed!\n",
      "Question #1c Test Case #2: You Passed!\n",
      "Question #1c Test Case #3: You Passed!\n",
      "Question #1c Test Case #4: You Passed!\n"
     ]
    }
   ],
   "source": [
    "print(\"Question #1c Test Case #1:\", tester(oct2dec(15253), 6827))\n",
    "print(\"Question #1c Test Case #2:\", tester(oct2dec(16), 14))\n",
    "print(\"Question #1c Test Case #3:\", tester(dec2oct(999), \"O1747\"))\n",
    "print(\"Question #1c Test Case #4:\", tester(dec2oct(8), \"O10\"))"
   ]
  },
  {
   "cell_type": "code",
   "execution_count": null,
   "metadata": {
    "deletable": false,
    "editable": false,
    "nbgrader": {
     "cell_type": "code",
     "checksum": "a5da27c3b4053ce75e2011f1cea96319",
     "grade": true,
     "grade_id": "cell-ab4901c48886df6a",
     "locked": true,
     "points": 1,
     "schema_version": 3,
     "solution": false
    }
   },
   "outputs": [],
   "source": [
    "# Hidden test cell"
   ]
  },
  {
   "cell_type": "code",
   "execution_count": null,
   "metadata": {
    "deletable": false,
    "editable": false,
    "nbgrader": {
     "cell_type": "code",
     "checksum": "c20ef9fe59ade5abbbc4ec76c27da039",
     "grade": true,
     "grade_id": "cell-87aa53e63ec8b7b3",
     "locked": true,
     "points": 1,
     "schema_version": 3,
     "solution": false
    }
   },
   "outputs": [],
   "source": [
    "# Hidden test cell"
   ]
  },
  {
   "cell_type": "code",
   "execution_count": null,
   "metadata": {
    "deletable": false,
    "editable": false,
    "nbgrader": {
     "cell_type": "code",
     "checksum": "9b9d94e974d41355571472038492474a",
     "grade": true,
     "grade_id": "cell-99025ad4de8a7fd9",
     "locked": true,
     "points": 1,
     "schema_version": 3,
     "solution": false
    }
   },
   "outputs": [],
   "source": [
    "# Hidden test cell"
   ]
  },
  {
   "cell_type": "code",
   "execution_count": null,
   "metadata": {
    "deletable": false,
    "editable": false,
    "nbgrader": {
     "cell_type": "code",
     "checksum": "064886692e3ef2e0cdcae46b303d89ef",
     "grade": true,
     "grade_id": "cell-868466263fb6768f",
     "locked": true,
     "points": 1,
     "schema_version": 3,
     "solution": false
    }
   },
   "outputs": [],
   "source": [
    "# Hidden test cell"
   ]
  },
  {
   "cell_type": "markdown",
   "metadata": {
    "deletable": false,
    "editable": false,
    "nbgrader": {
     "cell_type": "markdown",
     "checksum": "e6ca83bd77ce74eb706d5c873d1bcfd5",
     "grade": false,
     "grade_id": "cell-e61fa62ec99eec01",
     "locked": true,
     "schema_version": 3,
     "solution": false
    }
   },
   "source": [
    "# Question 2 : Alien Palindromes (4 points)\n",
    "\n",
    "It's an exciting time to be alive. Aliens have made first contact with humans--or so they thought. Unfortunately, their first encounter with our species was with \"Starman\", the most recent endeavour in Elon Musk's desperate attempt to return home to Mars. Needless to say, they failed all attempts at communication with the inanimate spacesuit. Naturally, Ol' Musky was quite disappointed.\n",
    "\n",
    "Top scientists have hypothesized that our failure to communicate with the aliens was because, well, they simply had too many fingers. On earth, we use a base 10 number system because humans have, on average, 10 fingers. In order to display our intelligence in any future encounters with extraterrestrial life, we want to show them that we respect however many fingers they have, and the number system they use as a consequence.\n",
    "\n",
    "Your task is to write a program that finds numbers that would be considered 'interesting' in both of our number systems--namely, palindromes. For instance, 1991 is 7C7 in hexadecimal, and both numbers are palindromes. Of course, we don't know how many fingers the aliens will have, but Elon assures us that it will be no more than 36. This is convenient because we can just use `0123456789ABCDEFGHIJKLMNOPQRSTUVWXYZ` to represent our numbers.\n",
    "\n",
    "Write a function, `alien(b, N)` that finds all numbers up to N that are palindromes in both base 10 and base b. Exclude any one digit numbers in either base--obviously, 1 is 1 in both decimal and any other number system. Providing the aliens with such trivial solutions will most likely anger them, and result in the complete annihilation of humanity.\n",
    "\n",
    "Your function should return all palindromic numbers in both decimal and the alien system as a list of tuples: [ (decimal1, alien1), (decimal2, alien2)... etc] in increasing order.\n",
    "\n",
    "For this question, you are free to use any functions you wish."
   ]
  },
  {
   "cell_type": "code",
   "execution_count": 86,
   "metadata": {
    "deletable": false,
    "nbgrader": {
     "cell_type": "code",
     "checksum": "d3d644dcb632f08143adfc8bab8347b5",
     "grade": false,
     "grade_id": "cell-77063b4697eac250",
     "locked": false,
     "schema_version": 3,
     "solution": true
    }
   },
   "outputs": [],
   "source": [
    "def alien ( b , N ):\n",
    "    ldec = []\n",
    "    for i in range (10,N+1):\n",
    "        if str(i)[::-1] == str(i):\n",
    "            ldec.append (i)\n",
    "    \n",
    "    convert = { 0 : '0' , 1 : '1' , 2 : '2' , 3 : '3' , 4 : '4' , 5 : '5' , 6 : '6' ,\n",
    "             7 : '7' , 8 : '8' , 9 : '9' , 10 : 'A' , 11 : 'B' , 12 : 'C' , 13 : 'D' , \n",
    "             14 : 'E' , 15 : 'F' , 16 : 'G' , 17 : 'H' , 18 : 'I' ,19 : 'J' , 20 : 'K' , \n",
    "             21 : 'L' ,22 : 'M' , 23 : 'N' , 24 : 'O' , 25 : 'P' , 26 : 'Q' , 27 : 'R' , \n",
    "             28 : 'S' , 29 : 'T' , 30 : 'U' , 31 : 'V' , 32 : 'W' , 33 : 'X' , 34 : 'Y' , 35 : 'Z' }\n",
    "    \n",
    "    lb=[]\n",
    "    for num in ldec:\n",
    "        x = ''\n",
    "        dec = num\n",
    "        while dec > 0:\n",
    "            rem = dec % b\n",
    "            x += convert[rem]\n",
    "            dec = dec // b\n",
    "            \n",
    "        lb.append(x)\n",
    "        \n",
    "    l = []\n",
    "    for i in range(len(ldec)):\n",
    "        l.append((ldec[i],lb[i]))\n",
    "\n",
    "        \n",
    "    pal = []\n",
    "    for tup in l:\n",
    "        if len(tup[1]) != 1:\n",
    "            if tup[1] == tup[1][::-1]:\n",
    "                pal.append(tup)\n",
    "        else:\n",
    "            continue\n",
    "\n",
    "    return pal\n"
   ]
  },
  {
   "cell_type": "code",
   "execution_count": 87,
   "metadata": {
    "deletable": false,
    "editable": false,
    "nbgrader": {
     "cell_type": "code",
     "checksum": "9d5429e6f5d1fb9d44a17611a1bd9e21",
     "grade": false,
     "grade_id": "cell-5cdd6293c5ebc281",
     "locked": true,
     "schema_version": 3,
     "solution": false,
     "task": false
    }
   },
   "outputs": [
    {
     "name": "stdout",
     "output_type": "stream",
     "text": [
      "Question #2 Test Case #1: You Passed!\n",
      "Question #2 Test Case #2: You Passed!\n",
      "Question #2 Test Case #3: You Passed!\n"
     ]
    }
   ],
   "source": [
    "print(\"Question #2 Test Case #1:\", tester(alien(16, 1000), [(353, '161'), (626, '272'), (787, '313'), (979, '3D3')]))\n",
    "print(\"Question #2 Test Case #2:\", tester(alien(7, 1000), [(121, '232'), (171, '333'), (242, '464'), (292, '565')]))\n",
    "print(\"Question #2 Test Case #3:\", tester(alien(29, 100000), [(929, '131'), (1771, '232'), (19191, 'MNM')]))"
   ]
  },
  {
   "cell_type": "code",
   "execution_count": null,
   "metadata": {
    "deletable": false,
    "editable": false,
    "nbgrader": {
     "cell_type": "code",
     "checksum": "0c5ac5c14d1fe9971e892a681295e97d",
     "grade": true,
     "grade_id": "cell-e58bfa8edb7ad7d4",
     "locked": true,
     "points": 1,
     "schema_version": 3,
     "solution": false
    }
   },
   "outputs": [],
   "source": [
    "# Hidden test cell"
   ]
  },
  {
   "cell_type": "code",
   "execution_count": null,
   "metadata": {
    "deletable": false,
    "editable": false,
    "nbgrader": {
     "cell_type": "code",
     "checksum": "4f5ab512941f291c3ff7eaaaaa36a76b",
     "grade": true,
     "grade_id": "cell-7a3553c87274e988",
     "locked": true,
     "points": 1,
     "schema_version": 3,
     "solution": false
    }
   },
   "outputs": [],
   "source": [
    "# Hidden test cell"
   ]
  },
  {
   "cell_type": "code",
   "execution_count": null,
   "metadata": {
    "deletable": false,
    "editable": false,
    "nbgrader": {
     "cell_type": "code",
     "checksum": "b9d9955965ccdfe9f3f5d05ba636bdce",
     "grade": true,
     "grade_id": "cell-afabc9a5ca6248b4",
     "locked": true,
     "points": 1,
     "schema_version": 3,
     "solution": false
    }
   },
   "outputs": [],
   "source": [
    "# Hidden test cell"
   ]
  },
  {
   "cell_type": "code",
   "execution_count": null,
   "metadata": {
    "deletable": false,
    "editable": false,
    "nbgrader": {
     "cell_type": "code",
     "checksum": "b6160f75d2be5958284ad1c1e7bbbb5e",
     "grade": true,
     "grade_id": "cell-b06a6625135faf48",
     "locked": true,
     "points": 1,
     "schema_version": 3,
     "solution": false
    }
   },
   "outputs": [],
   "source": [
    "# Hidden test cell"
   ]
  },
  {
   "cell_type": "markdown",
   "metadata": {},
   "source": [
    "# Bonus Question (Gray Codes) [4 points]:\n",
    "\n",
    "Consider following Python function for enumerating all binary numbers with a given width. For example, as `0`, `1` are the binary numbers with one digit, those with two digits are formed by prepending `0` to those numbers, `00`, `01`, and the prepending `1` to those numbers `10`, `11`, resulting in `00`, `01`, `10`, `11`. Those with three digits are formed by prepending `0` again, `000`, `001`, `010`, `011`, and then prepending `1` as well, `100`, `101`, `110`, `111`.\n",
    "\n",
    "The Binary Numbers function below will give you an idea of what we are expecting. It generates all possible binary numbers up to the width providided. Base your solution on it."
   ]
  },
  {
   "cell_type": "code",
   "execution_count": null,
   "metadata": {
    "deletable": false,
    "editable": false,
    "nbgrader": {
     "cell_type": "code",
     "checksum": "3c0adedf450759ca344d61fe88dc5d7f",
     "grade": false,
     "grade_id": "cell-460de8ac3bd5ab9a",
     "locked": true,
     "schema_version": 3,
     "solution": false,
     "task": false
    }
   },
   "outputs": [],
   "source": [
    "def binaryNumbers(width):\n",
    "    return [''] if width == 0 else \\\n",
    "           ['0' + x for x in binaryNumbers(width - 1)] + \\\n",
    "           ['1' + x for x in binaryNumbers(width - 1)]"
   ]
  },
  {
   "cell_type": "markdown",
   "metadata": {
    "deletable": false,
    "editable": false,
    "nbgrader": {
     "cell_type": "markdown",
     "checksum": "916ced8efc5bfea59df2ca9476ab7f97",
     "grade": false,
     "grade_id": "cell-974a6b0b4f4c6ce5",
     "locked": true,
     "schema_version": 3,
     "solution": false,
     "task": false
    }
   },
   "source": [
    "<div><span style=\"float:left\"><table style=\"width:8em\">\n",
    "<caption>Binary numbers</caption>\n",
    "<tbody><tr style=\"background:#ccc;\">\n",
    "<th><small>2-bit</small></th>\n",
    "<th><small>4-bit</small></th>\n",
    "</tr>\n",
    "<tr>\n",
    "<td style=\"font-size:small;\">00<br>\n",
    "01<br>\n",
    "10<br>\n",
    "11<br>\n",
    "<br></td>\n",
    "<td rowspan=\"3\" style=\"font-size:small;\">0000<br>\n",
    "0001<br>\n",
    "0010<br>\n",
    "0011<br>\n",
    "0100<br>\n",
    "0101<br>\n",
    "0110<br>\n",
    "0111<br>\n",
    "1000<br>\n",
    "1001<br>\n",
    "1010<br>\n",
    "1011<br>\n",
    "1100<br>\n",
    "1101<br>\n",
    "1110<br>\n",
    "1111</td>\n",
    "</tr>\n",
    "<tr style=\"background:#ccc;\">\n",
    "<th><small>3-bit</small></th>\n",
    "</tr>\n",
    "<tr>\n",
    "<td style=\"font-size:small;\">000<br>\n",
    "001<br>\n",
    "010<br>\n",
    "011<br>\n",
    "100<br>\n",
    "101<br>\n",
    "110<br>\n",
    "111<br></td>\n",
    "</tr>\n",
    "</tbody></table></span></div>\n",
    "\n",
    "<div><span style=\"float:right\"><table style=\"width:8em\">\n",
    "<caption>Gray code</caption>\n",
    "<tbody><tr style=\"background:#ccc;\">\n",
    "<th><small>2-bit</small></th>\n",
    "<th><small>4-bit</small></th>\n",
    "</tr>\n",
    "<tr>\n",
    "<td style=\"font-size:small;\">00<br>\n",
    "01<br>\n",
    "11<br>\n",
    "10<br>\n",
    "<br></td>\n",
    "<td rowspan=\"3\" style=\"font-size:small;\">0000<br>\n",
    "0001<br>\n",
    "0011<br>\n",
    "0010<br>\n",
    "0110<br>\n",
    "0111<br>\n",
    "0101<br>\n",
    "0100<br>\n",
    "1100<br>\n",
    "1101<br>\n",
    "1111<br>\n",
    "1110<br>\n",
    "1010<br>\n",
    "1011<br>\n",
    "1001<br>\n",
    "1000</td>\n",
    "</tr>\n",
    "<tr style=\"background:#ccc;\">\n",
    "<th><small>3-bit</small></th>\n",
    "</tr>\n",
    "<tr>\n",
    "<td style=\"font-size:small;\">000<br>\n",
    "001<br>\n",
    "011<br>\n",
    "010<br>\n",
    "110<br>\n",
    "111<br>\n",
    "101<br>\n",
    "100<br></td>\n",
    "</tr>\n",
    "</tbody></table></span></div>\n",
    "<div style=\"border:3em solid white\"> The Gray code is a binary code that has the property that any two consecutive numbers differ only by one bit. The Gray code has several applications, for example in digital TV transmissions. It is constructed similarly to binary numbers, but with reversal when prepending `1`: for example, given `0`, `1`, the Gray code is formed by prepending `0` to those numbers, `00`, `01`, and then prepending `1` after reversing those numbers, `11`, `10`, resulting in `00`, `01`, `11`, `10`. The Gray code with three digits is formed by prepending `0` again, `000`, `001`, `011`, `010`, and the prepending `1` after reversing the numbers, `110`, `111`, `101`, `100`. \n",
    "    Write a Python function `grayCode(width)` that returns a list with the Gray codes of the given width.</div>\n",
    "For this one, you'll have to design your own test cases! "
   ]
  },
  {
   "cell_type": "code",
   "execution_count": null,
   "metadata": {
    "deletable": false,
    "nbgrader": {
     "cell_type": "code",
     "checksum": "470e95c43d15387449d464359118d5e9",
     "grade": false,
     "grade_id": "cell-f10433d4db0559ed",
     "locked": false,
     "schema_version": 3,
     "solution": true
    }
   },
   "outputs": [],
   "source": [
    "## Your code here! \n",
    "def grayCode(digits):\n",
    "    pass\n"
   ]
  },
  {
   "cell_type": "code",
   "execution_count": null,
   "metadata": {
    "deletable": false,
    "editable": false,
    "nbgrader": {
     "cell_type": "code",
     "checksum": "eb48050f283eaec0f3a05c019a8241b6",
     "grade": true,
     "grade_id": "cell-e5d90ea2c09fc2f6",
     "locked": true,
     "points": 1,
     "schema_version": 3,
     "solution": false
    }
   },
   "outputs": [],
   "source": [
    "# Hidden test cell"
   ]
  },
  {
   "cell_type": "code",
   "execution_count": null,
   "metadata": {
    "deletable": false,
    "editable": false,
    "nbgrader": {
     "cell_type": "code",
     "checksum": "a1156a2da443bb8ead27e8e5bbb7e60c",
     "grade": true,
     "grade_id": "cell-68059897e88e8e3a",
     "locked": true,
     "points": 1,
     "schema_version": 3,
     "solution": false
    }
   },
   "outputs": [],
   "source": [
    "# Hidden test cell"
   ]
  },
  {
   "cell_type": "code",
   "execution_count": null,
   "metadata": {
    "deletable": false,
    "editable": false,
    "nbgrader": {
     "cell_type": "code",
     "checksum": "c549452fa17574cc8fe015e1d93bf091",
     "grade": true,
     "grade_id": "cell-9e5c29710e119d73",
     "locked": true,
     "points": 1,
     "schema_version": 3,
     "solution": false
    }
   },
   "outputs": [],
   "source": [
    "# Hidden test cell"
   ]
  },
  {
   "cell_type": "code",
   "execution_count": null,
   "metadata": {
    "deletable": false,
    "editable": false,
    "nbgrader": {
     "cell_type": "code",
     "checksum": "f9739ffd9fc5049976cef315f4ecc5ec",
     "grade": true,
     "grade_id": "cell-871e081460bd2d66",
     "locked": true,
     "points": 1,
     "schema_version": 3,
     "solution": false
    }
   },
   "outputs": [],
   "source": [
    "# Hidden test cell"
   ]
  }
 ],
 "metadata": {
  "kernelspec": {
   "display_name": "Python 3 (ipykernel)",
   "language": "python",
   "name": "python3"
  },
  "language_info": {
   "codemirror_mode": {
    "name": "ipython",
    "version": 3
   },
   "file_extension": ".py",
   "mimetype": "text/x-python",
   "name": "python",
   "nbconvert_exporter": "python",
   "pygments_lexer": "ipython3",
   "version": "3.9.7"
  }
 },
 "nbformat": 4,
 "nbformat_minor": 2
}
